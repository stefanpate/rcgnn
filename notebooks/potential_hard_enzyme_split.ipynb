{
 "cells": [
  {
   "cell_type": "code",
   "execution_count": 1,
   "metadata": {},
   "outputs": [],
   "source": [
    "import numpy as np\n",
    "import pandas as pd\n",
    "from pathlib import Path\n",
    "from src.utils import construct_sparse_adj_mat, load_json\n",
    "from src.similarity import load_similarity_matrix\n",
    "from omegaconf import OmegaConf\n",
    "import matplotlib.pyplot as plt\n",
    "from Bio import Align"
   ]
  },
  {
   "cell_type": "code",
   "execution_count": 2,
   "metadata": {},
   "outputs": [],
   "source": [
    "filepaths = OmegaConf.load('../configs/filepaths/base.yaml')"
   ]
  },
  {
   "cell_type": "code",
   "execution_count": 3,
   "metadata": {},
   "outputs": [
    {
     "name": "stdout",
     "output_type": "stream",
     "text": [
      "Constructing v3_folded_pt_ns sparse adjacency matrix\n"
     ]
    }
   ],
   "source": [
    "dataset = 'sprhea'\n",
    "toc = 'v3_folded_pt_ns'\n",
    "strategy = 'homology'\n",
    "metric = 'gsi'\n",
    "\n",
    "\n",
    "reactions = load_json(Path(filepaths.data) / dataset / (toc + \".json\"))\n",
    "adj, idx_sample, idx_feature = construct_sparse_adj_mat(\n",
    "        Path(filepaths.data) / 'sprhea' / (toc + \".csv\")\n",
    "    )\n",
    "\n",
    "reactions = {k: v for k, v in reactions.items() if k in idx_feature.values()}\n",
    "\n",
    "split_dir = Path(filepaths.scratch) / f\"{dataset}_{toc}/{strategy}/3fold\"\n",
    "\n",
    "train_val = []\n",
    "for i in range(3):\n",
    "    train_val.append(\n",
    "        pd.read_parquet(split_dir / f\"train_val_{i}.parquet\")\n",
    "    )\n",
    "test = pd.read_parquet(split_dir / 'test.parquet')"
   ]
  },
  {
   "cell_type": "code",
   "execution_count": 4,
   "metadata": {},
   "outputs": [],
   "source": [
    "S = load_similarity_matrix(\n",
    "    Path(filepaths.results) / \"similarity_matrices\", \n",
    "    dataset,\n",
    "    toc,\n",
    "    metric,\n",
    ")\n",
    "\n",
    "S = S.astype(np.float16)"
   ]
  },
  {
   "cell_type": "code",
   "execution_count": 5,
   "metadata": {},
   "outputs": [
    {
     "data": {
      "image/png": "[encoded data removed]",
      "text/plain": [
       "<Figure size 640x480 with 1 Axes>"
      ]
     },
     "metadata": {},
     "output_type": "display_data"
    }
   ],
   "source": [
    "sims = S[np.triu_indices_from(S, k=1)]\n",
    "plt.hist(sims, bins=100)\n",
    "plt.yscale('log')\n",
    "plt.ylabel('Frequency')\n",
    "plt.xlabel(f\"{metric.upper()} Similarity\")\n",
    "plt.show()"
   ]
  },
  {
   "cell_type": "code",
   "execution_count": 6,
   "metadata": {},
   "outputs": [],
   "source": [
    "train = pd.concat(train_val).reset_index(drop=True)\n",
    "train_idx = list(set(train['protein_idx']))\n",
    "test_idx = list(set(test['protein_idx']))\n",
    "max_sims = S[:, test_idx][train_idx].max(axis=0)"
   ]
  },
  {
   "cell_type": "code",
   "execution_count": 7,
   "metadata": {},
   "outputs": [
    {
     "data": {
      "text/plain": [
       "[0.08575,\n",
       " 0.0889,\n",
       " 0.0892,\n",
       " 0.0892,\n",
       " 0.0905,\n",
       " 0.09174,\n",
       " 0.09216,\n",
       " 0.09467,\n",
       " 0.0949,\n",
       " 0.0952,\n",
       " 0.096,\n",
       " 0.09644,\n",
       " 0.09766,\n",
       " 0.09814,\n",
       " 0.0992,\n",
       " 0.0992,\n",
       " 0.1003,\n",
       " 0.10034,\n",
       " 0.10046,\n",
       " 0.1011]"
      ]
     },
     "execution_count": 7,
     "metadata": {},
     "output_type": "execute_result"
    }
   ],
   "source": [
    "sorted(max_sims, reverse=False)[:20]"
   ]
  },
  {
   "cell_type": "code",
   "execution_count": 8,
   "metadata": {},
   "outputs": [],
   "source": [
    "nearest_train_neighbors = S[:, test_idx][train_idx].argmax(axis=0)"
   ]
  },
  {
   "cell_type": "code",
   "execution_count": 9,
   "metadata": {},
   "outputs": [
    {
     "data": {
      "text/plain": [
       "(1491, 7137)"
      ]
     },
     "execution_count": 9,
     "metadata": {},
     "output_type": "execute_result"
    }
   ],
   "source": [
    "len(max_sims[max_sims < 0.25]), len(max_sims)"
   ]
  },
  {
   "cell_type": "code",
   "execution_count": 16,
   "metadata": {},
   "outputs": [],
   "source": [
    "ub = 0.3\n",
    "test_idxs = np.nonzero(max_sims < ub)[0]\n",
    "train_idxs = nearest_train_neighbors[max_sims < ub]\n",
    "tr_te_pairs = list(zip(train_idx, test_idx))\n",
    "\n",
    "with open('low_sim_pairs.txt', 'w') as f:\n",
    "    for pair in tr_te_pairs:\n",
    "        f.write(f\"{pair[0]}\\t{pair[1]}\\n\")"
   ]
  },
  {
   "cell_type": "code",
   "execution_count": null,
   "metadata": {},
   "outputs": [
    {
     "data": {
      "text/html": [
       "<div>\n",
       "<style scoped>\n",
       "    .dataframe tbody tr th:only-of-type {\n",
       "        vertical-align: middle;\n",
       "    }\n",
       "\n",
       "    .dataframe tbody tr th {\n",
       "        vertical-align: top;\n",
       "    }\n",
       "\n",
       "    .dataframe thead th {\n",
       "        text-align: right;\n",
       "    }\n",
       "</style>\n",
       "<table border=\"1\" class=\"dataframe\">\n",
       "  <thead>\n",
       "    <tr style=\"text-align: right;\">\n",
       "      <th></th>\n",
       "      <th>protein_idx</th>\n",
       "      <th>reaction_idx</th>\n",
       "      <th>pid</th>\n",
       "      <th>rid</th>\n",
       "      <th>protein_embedding</th>\n",
       "      <th>smarts</th>\n",
       "      <th>reaction_center</th>\n",
       "      <th>y</th>\n",
       "    </tr>\n",
       "  </thead>\n",
       "  <tbody>\n",
       "    <tr>\n",
       "      <th>0</th>\n",
       "      <td>14597</td>\n",
       "      <td>4949</td>\n",
       "      <td>Q4AEH5</td>\n",
       "      <td>3465</td>\n",
       "      <td>[-0.19151253, 0.22544405, 0.006724517, 0.01276...</td>\n",
       "      <td>NC(CCC(=O)NC(CSSCC(NC(=O)CCC(N)C(=O)O)C(=O)NCC...</td>\n",
       "      <td>[[[9, 10], [0], [0]], [[9], [9], [0, 1]]]</td>\n",
       "      <td>1</td>\n",
       "    </tr>\n",
       "    <tr>\n",
       "      <th>1</th>\n",
       "      <td>22499</td>\n",
       "      <td>3152</td>\n",
       "      <td>P19791</td>\n",
       "      <td>446</td>\n",
       "      <td>[-0.038668983, 0.33085075, -0.18529698, 0.0166...</td>\n",
       "      <td>*OC1C(CO)OC(*)C1O.*C1OC(COP(*)(=O)O)C(OP(=O)(O...</td>\n",
       "      <td>[[[5], [14, 12]], [[0], [5, 6]]]</td>\n",
       "      <td>1</td>\n",
       "    </tr>\n",
       "    <tr>\n",
       "      <th>2</th>\n",
       "      <td>3126</td>\n",
       "      <td>341</td>\n",
       "      <td>Q39086</td>\n",
       "      <td>210</td>\n",
       "      <td>[-0.057455827, 0.04223725, -0.05662363, 0.0197...</td>\n",
       "      <td>Nc1ncnc2c1ncn2C1OC(COP(=O)(O)OP(=O)(O)O)C(O)C1...</td>\n",
       "      <td>[[[21], [8, 9]], [[8], [22, 23]]]</td>\n",
       "      <td>1</td>\n",
       "    </tr>\n",
       "    <tr>\n",
       "      <th>3</th>\n",
       "      <td>3126</td>\n",
       "      <td>342</td>\n",
       "      <td>Q39086</td>\n",
       "      <td>85</td>\n",
       "      <td>[-0.057455827, 0.04223725, -0.05662363, 0.0197...</td>\n",
       "      <td>Nc1ncnc2c1ncn2C1OC(COP(=O)(O)OP(=O)(O)O)C(O)C1...</td>\n",
       "      <td>[[[21], [4, 5]], [[4], [22, 23]]]</td>\n",
       "      <td>1</td>\n",
       "    </tr>\n",
       "    <tr>\n",
       "      <th>4</th>\n",
       "      <td>21300</td>\n",
       "      <td>6068</td>\n",
       "      <td>Q5FW37</td>\n",
       "      <td>56</td>\n",
       "      <td>[0.007033832, 0.16739662, 0.09198507, -0.00344...</td>\n",
       "      <td>CSCCC(=O)C(=O)COP(=O)(O)O.O&gt;&gt;CSCC(O)C(O)C(=O)C...</td>\n",
       "      <td>[[[3, 4, 5], [0]], [[3, 4, 5, 6]]]</td>\n",
       "      <td>1</td>\n",
       "    </tr>\n",
       "  </tbody>\n",
       "</table>\n",
       "</div>"
      ],
      "text/plain": [
       "   protein_idx  reaction_idx     pid   rid  \\\n",
       "0        14597          4949  Q4AEH5  3465   \n",
       "1        22499          3152  P19791   446   \n",
       "2         3126           341  Q39086   210   \n",
       "3         3126           342  Q39086    85   \n",
       "4        21300          6068  Q5FW37    56   \n",
       "\n",
       "                                   protein_embedding  \\\n",
       "0  [-0.19151253, 0.22544405, 0.006724517, 0.01276...   \n",
       "1  [-0.038668983, 0.33085075, -0.18529698, 0.0166...   \n",
       "2  [-0.057455827, 0.04223725, -0.05662363, 0.0197...   \n",
       "3  [-0.057455827, 0.04223725, -0.05662363, 0.0197...   \n",
       "4  [0.007033832, 0.16739662, 0.09198507, -0.00344...   \n",
       "\n",
       "                                              smarts  \\\n",
       "0  NC(CCC(=O)NC(CSSCC(NC(=O)CCC(N)C(=O)O)C(=O)NCC...   \n",
       "1  *OC1C(CO)OC(*)C1O.*C1OC(COP(*)(=O)O)C(OP(=O)(O...   \n",
       "2  Nc1ncnc2c1ncn2C1OC(COP(=O)(O)OP(=O)(O)O)C(O)C1...   \n",
       "3  Nc1ncnc2c1ncn2C1OC(COP(=O)(O)OP(=O)(O)O)C(O)C1...   \n",
       "4  CSCCC(=O)C(=O)COP(=O)(O)O.O>>CSCC(O)C(O)C(=O)C...   \n",
       "\n",
       "                             reaction_center  y  \n",
       "0  [[[9, 10], [0], [0]], [[9], [9], [0, 1]]]  1  \n",
       "1           [[[5], [14, 12]], [[0], [5, 6]]]  1  \n",
       "2          [[[21], [8, 9]], [[8], [22, 23]]]  1  \n",
       "3          [[[21], [4, 5]], [[4], [22, 23]]]  1  \n",
       "4         [[[3, 4, 5], [0]], [[3, 4, 5, 6]]]  1  "
      ]
     },
     "execution_count": 17,
     "metadata": {},
     "output_type": "execute_result"
    }
   ],
   "source": [
    "train.head()"
   ]
  },
  {
   "cell_type": "code",
   "execution_count": 28,
   "metadata": {},
   "outputs": [
    {
     "data": {
      "text/html": [
       "<div>\n",
       "<style scoped>\n",
       "    .dataframe tbody tr th:only-of-type {\n",
       "        vertical-align: middle;\n",
       "    }\n",
       "\n",
       "    .dataframe tbody tr th {\n",
       "        vertical-align: top;\n",
       "    }\n",
       "\n",
       "    .dataframe thead th {\n",
       "        text-align: right;\n",
       "    }\n",
       "</style>\n",
       "<table border=\"1\" class=\"dataframe\">\n",
       "  <thead>\n",
       "    <tr style=\"text-align: right;\">\n",
       "      <th></th>\n",
       "      <th>Entry</th>\n",
       "      <th>Label</th>\n",
       "      <th>Sequence</th>\n",
       "    </tr>\n",
       "  </thead>\n",
       "  <tbody>\n",
       "    <tr>\n",
       "      <th>0</th>\n",
       "      <td>P0A6W3</td>\n",
       "      <td>1123</td>\n",
       "      <td>MLVWLAEHLVKYYSGFNVFSYLTFRAIVSLLTALFISLWMGPRMIA...</td>\n",
       "    </tr>\n",
       "    <tr>\n",
       "      <th>1</th>\n",
       "      <td>P9WMW7</td>\n",
       "      <td>1123</td>\n",
       "      <td>MRQILIAVAVAVTVSILLTPVLIRLFTKQGFGHQIREDGPPSHHTK...</td>\n",
       "    </tr>\n",
       "    <tr>\n",
       "      <th>2</th>\n",
       "      <td>O66465</td>\n",
       "      <td>1123</td>\n",
       "      <td>MLYQLALLLKDYWFAFNVLKYITFRSFTAVLIAFFLTLVLSPSFIN...</td>\n",
       "    </tr>\n",
       "    <tr>\n",
       "      <th>3</th>\n",
       "      <td>Q8MJ30</td>\n",
       "      <td>3097;7946</td>\n",
       "      <td>MAAAAAGEARRVLVYGGRGALGSRCVQAFRARNWWVASIDVVENEE...</td>\n",
       "    </tr>\n",
       "    <tr>\n",
       "      <th>4</th>\n",
       "      <td>P38489</td>\n",
       "      <td>3097;7946</td>\n",
       "      <td>MDIISVALKRHSTKAFDASKKLTPEQAEQIKTLLQYSPSSTNSQPW...</td>\n",
       "    </tr>\n",
       "  </tbody>\n",
       "</table>\n",
       "</div>"
      ],
      "text/plain": [
       "    Entry      Label                                           Sequence\n",
       "0  P0A6W3       1123  MLVWLAEHLVKYYSGFNVFSYLTFRAIVSLLTALFISLWMGPRMIA...\n",
       "1  P9WMW7       1123  MRQILIAVAVAVTVSILLTPVLIRLFTKQGFGHQIREDGPPSHHTK...\n",
       "2  O66465       1123  MLYQLALLLKDYWFAFNVLKYITFRSFTAVLIAFFLTLVLSPSFIN...\n",
       "3  Q8MJ30  3097;7946  MAAAAAGEARRVLVYGGRGALGSRCVQAFRARNWWVASIDVVENEE...\n",
       "4  P38489  3097;7946  MDIISVALKRHSTKAFDASKKLTPEQAEQIKTLLQYSPSSTNSQPW..."
      ]
     },
     "execution_count": 28,
     "metadata": {},
     "output_type": "execute_result"
    }
   ],
   "source": [
    "df = pd.read_csv(\n",
    "    Path(filepaths.data) /  dataset / (toc + \".csv\"),\n",
    "    sep='\\t'\n",
    ")\n",
    "df.head()"
   ]
  },
  {
   "cell_type": "code",
   "execution_count": 29,
   "metadata": {},
   "outputs": [],
   "source": [
    "i = 0"
   ]
  },
  {
   "cell_type": "code",
   "execution_count": 69,
   "metadata": {},
   "outputs": [
    {
     "name": "stdout",
     "output_type": "stream",
     "text": [
      "Train Q8MJ30\n",
      "MAAAAAGEARRVLVYGGRGALGSRCVQAFRARNWWVASIDVVENEEASANVVVKMTDSFTEQADQVTAEVGKLLGTEKVDAILCVAGGWAGGNAKSKSLFKNCDLMWKQSMWTSTISSHLATKHLKEGGLLTLAGAKAALDGTPGMIGYGMAKGAVHQLCQSLAGKDSGMPSGAAAIAVLPVTLDTPLNRKSMPHADFSSWTPLEFLVETFHDWIIEKNRPSSGSLIQVVTTQGKTELTPAYF\n",
      "Test Q91610\n",
      "MPAVRIVILAICCGLLLVPVRCCGPGRGPVGRRRYMRKLVPLHYKQFVPNVPEKTLGASGKSEGKIHRGSERFIELVPNYNPDIIFKDEEKTGADRLMTERCKDRVNALAISVMNMWPGVKLRVTEGWDEDGHHAHDSLHYEGRALDITTSDRDRNKYGMLARLAVEAGFDWVYYESKAHIHVSVKADNSLGVRSGGCFPGTAMVMMGTGERKPLSELKIGDTVYTTDETGQLITSVVLLFLHRNPYKTATFVLIEAEGHPSKLLVTPNHLLFIQSSSSAGFLPTFAYRVQIGDLVQIYVNGTQVQSSKVVRVSLEEQTGVYAPMTEHGTLLVDGVLTSCYATVESHTLAHVSLAPLRLFQGIASMLPDLDMSDGVHWYCHILYVLAKYVLWWDMP\n"
     ]
    }
   ],
   "source": [
    "tr_pair, te_pair = tr_te_pairs[i]\n",
    "tr_upid = train.loc[train['protein_idx'] == tr_pair, 'pid'].values[0]\n",
    "te_upid = test.loc[test['protein_idx'] == te_pair, 'pid'].values[0]\n",
    "print(f\"Train {tr_upid}\")\n",
    "tr_seq = df.loc[df['Entry'] == tr_upid, 'Sequence'].values[0]\n",
    "print(tr_seq)\n",
    "print(f\"Test {te_upid}\")\n",
    "te_seq = df.loc[df['Entry'] == te_upid, 'Sequence'].values[0]\n",
    "print(te_seq)\n",
    "i += 1"
   ]
  },
  {
   "cell_type": "code",
   "execution_count": 70,
   "metadata": {},
   "outputs": [
    {
     "name": "stdout",
     "output_type": "stream",
     "text": [
      "0.0823045267489712\n",
      "target            0 MAAAAAGEARRVLVYGGRGALGSRCVQAFRARNWWVASIDVVENEEASANVVVKMTDSFT\n",
      "                  0 |.|............................|.................||..|......\n",
      "query             0 MPAVRIVILAICCGLLLVPVRCCGPGRGPVGRRRYMRKLVPLHYKQFVPNVPEKTLGASG\n",
      "\n",
      "target           60 EQADQVTAEVGKLLGTEKVDAILCVAGGWAGGNAKSKSLFKNCDLMWKQSMWTSTISSHL\n",
      "                 60 .................................|.........|................\n",
      "query            60 KSEGKIHRGSERFIELVPNYNPDIIFKDEEKTGADRLMTERCKDRVNALAISVMNMWPGV\n",
      "\n",
      "target          120 ATK---------------------------------------------------------\n",
      "                120 ...---------------------------------------------------------\n",
      "query           120 KLRVTEGWDEDGHHAHDSLHYEGRALDITTSDRDRNKYGMLARLAVEAGFDWVYYESKAH\n",
      "\n",
      "target          123 ------------------------------------------------------------\n",
      "                180 ------------------------------------------------------------\n",
      "query           180 IHVSVKADNSLGVRSGGCFPGTAMVMMGTGERKPLSELKIGDTVYTTDETGQLITSVVLL\n",
      "\n",
      "target          123 ------------------------------------HLKEGGLLTLAGAKAALDGTPGMI\n",
      "                240 ------------------------------------....|.|.|.|......|......\n",
      "query           240 FLHRNPYKTATFVLIEAEGHPSKLLVTPNHLLFIQSSSSAGFLPTFAYRVQIGDLVQIYV\n",
      "\n",
      "target          147 GYGMAKGAVHQLCQSLAGKDSGMPSGAAAIAVLPVTLDTPLNRKSMPHADFSSWTPLEFL\n",
      "                300 .......................|............|...............|..||...\n",
      "query           300 NGTQVQSSKVVRVSLEEQTGVYAPMTEHGTLLVDGVLTSCYATVESHTLAHVSLAPLRLF\n",
      "\n",
      "target          207 VETFHDWIIEKNRPSSGSLIQVVTTQGKTELTPAYF 243\n",
      "                360 ...........................|..|..... 396\n",
      "query           360 QGIASMLPDLDMSDGVHWYCHILYVLAKYVLWWDMP 396\n",
      "\n"
     ]
    }
   ],
   "source": [
    "aligner = Align.PairwiseAligner(\n",
    "    mode=\"global\",\n",
    "    scoring=\"blastp\"\n",
    ")\n",
    "aligner.open_gap_score = -1e6\n",
    "alignment = aligner.align(tr_seq, te_seq)[0]\n",
    "t_segments, q_segments = alignment.aligned\n",
    "\n",
    "talign = ''\n",
    "qalign = ''\n",
    "for i in range(t_segments.shape[0]):\n",
    "    talign += alignment.target[t_segments[i, 0] : t_segments[i, 1]]\n",
    "    qalign += alignment.query[q_segments[i, 0] : q_segments[i, 1]]\n",
    "\n",
    "ct = 0\n",
    "for t, q in zip(talign, qalign):\n",
    "    if t == q:\n",
    "        ct += 1\n",
    "\n",
    "print(ct / min(len(alignment.target), len(alignment.query)))\n",
    "print(alignment)"
   ]
  }
 ],
 "metadata": {
  "kernelspec": {
   "display_name": "hiec",
   "language": "python",
   "name": "python3"
  },
  "language_info": {
   "codemirror_mode": {
    "name": "ipython",
    "version": 3
   },
   "file_extension": ".py",
   "mimetype": "text/x-python",
   "name": "python",
   "nbconvert_exporter": "python",
   "pygments_lexer": "ipython3",
   "version": "3.11.5"
  }
 },
 "nbformat": 4,
 "nbformat_minor": 2
}
