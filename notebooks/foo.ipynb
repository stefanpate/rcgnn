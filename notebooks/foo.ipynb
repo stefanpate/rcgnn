{
 "cells": [
  {
   "cell_type": "code",
   "execution_count": 45,
   "id": "b2a33e4c",
   "metadata": {},
   "outputs": [],
   "source": [
    "import json\n",
    "from pathlib import Path\n",
    "from src.cross_validation import parse_cd_hit_clusters\n",
    "from rdkit import Chem\n",
    "from tqdm import tqdm\n",
    "from collections import Counter"
   ]
  },
  {
   "cell_type": "code",
   "execution_count": 2,
   "id": "48797483",
   "metadata": {},
   "outputs": [],
   "source": [
    "dir = \"/home/stef/hiec/artifacts/clustering\"\n",
    "dataset = 'sprhea'\n",
    "toc = 'v3_folded_pt_ns'\n",
    "strats = ['rcmcs', 'esm', 'gsi', 'blosum']\n",
    "cutoffs = [\n",
    "    (80, 60, 40),\n",
    "    (99, 98, 97, 95),\n",
    "    (35, 30, 25),\n",
    "    (80, 60, 40)\n",
    "]"
   ]
  },
  {
   "cell_type": "code",
   "execution_count": 3,
   "id": "fc239f67",
   "metadata": {},
   "outputs": [
    {
     "name": "stdout",
     "output_type": "stream",
     "text": [
      "rcmcs 80: 2528\n",
      "rcmcs 60: 1351\n",
      "rcmcs 40: 758\n",
      "esm 99: 9382\n",
      "esm 98: 5768\n",
      "esm 97: 3310\n",
      "esm 95: 691\n",
      "gsi 35: 8332\n",
      "gsi 30: 2656\n",
      "gsi 25: 334\n",
      "blosum 80: 716\n",
      "blosum 60: 72\n",
      "blosum 40: 69\n"
     ]
    }
   ],
   "source": [
    "for strat, cuts in zip(strats, cutoffs):\n",
    "    for c in cuts:\n",
    "        path = Path(dir) / f\"{dataset}_{toc}_{strat}_{c}.json\"\n",
    "        with open(path) as f:\n",
    "            data = json.load(f)\n",
    "\n",
    "        print(f\"{strat} {c}: {len(set(data.values()))}\")"
   ]
  }
 ],
 "metadata": {
  "kernelspec": {
   "display_name": "hiec2",
   "language": "python",
   "name": "python3"
  },
  "language_info": {
   "codemirror_mode": {
    "name": "ipython",
    "version": 3
   },
   "file_extension": ".py",
   "mimetype": "text/x-python",
   "name": "python",
   "nbconvert_exporter": "python",
   "pygments_lexer": "ipython3",
   "version": "3.11.5"
  }
 },
 "nbformat": 4,
 "nbformat_minor": 5
}
