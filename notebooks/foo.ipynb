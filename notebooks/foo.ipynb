{
 "cells": [
  {
   "cell_type": "code",
   "execution_count": null,
   "id": "cf80bbf1",
   "metadata": {},
   "outputs": [],
   "source": [
    "from drfp import DrfpEncoder\n",
    "from src.clip import EnzymeReactionCLIP\n",
    "\n",
    "rxn_smiles = [\n",
    "    \"CO.O[C@@H]1CCNC1.[C-]#[N+]CC(=O)OC>>[C-]#[N+]CC(=O)N1CC[C@@H](O)C1\",\n",
    "    \"CCOC(=O)C(CC)c1cccnc1.Cl.O>>CCC(C(=O)O)c1cccnc1\",\n",
    "]\n",
    "\n",
    "fps = DrfpEncoder.encode(rxn_smiles)"
   ]
  },
  {
   "cell_type": "code",
   "execution_count": 2,
   "id": "e6857a56",
   "metadata": {},
   "outputs": [
    {
     "data": {
      "text/plain": [
       "[array([0, 0, 0, ..., 0, 0, 0], shape=(2048,), dtype=uint8),\n",
       " array([0, 0, 0, ..., 0, 0, 0], shape=(2048,), dtype=uint8)]"
      ]
     },
     "execution_count": 2,
     "metadata": {},
     "output_type": "execute_result"
    }
   ],
   "source": [
    "fps"
   ]
  },
  {
   "cell_type": "code",
   "execution_count": 11,
   "id": "2523dfb8",
   "metadata": {},
   "outputs": [
    {
     "data": {
      "text/plain": [
       "np.False_"
      ]
     },
     "execution_count": 11,
     "metadata": {},
     "output_type": "execute_result"
    }
   ],
   "source": [
    "am_rxn = \"[C:1][C:2]>>[C:1]=[C:2]\"\n",
    "rxn = \"CC>>C=C\"\n",
    "\n",
    "am_fp = DrfpEncoder.encode(am_rxn)\n",
    "fp = DrfpEncoder.encode(rxn)\n",
    "(am_fp[0] == fp[0]).all()"
   ]
  },
  {
   "cell_type": "code",
   "execution_count": null,
   "id": "8fcb60a8",
   "metadata": {},
   "outputs": [],
   "source": [
    "ckpt = \n",
    "model = EnzymeReactionCLIP.load_from_checkpoint(\n",
    "            checkpoint_path=ckpt\n",
    "        )"
   ]
  }
 ],
 "metadata": {
  "kernelspec": {
   "display_name": "hiec2",
   "language": "python",
   "name": "python3"
  },
  "language_info": {
   "codemirror_mode": {
    "name": "ipython",
    "version": 3
   },
   "file_extension": ".py",
   "mimetype": "text/x-python",
   "name": "python",
   "nbconvert_exporter": "python",
   "pygments_lexer": "ipython3",
   "version": "3.11.5"
  }
 },
 "nbformat": 4,
 "nbformat_minor": 5
}
