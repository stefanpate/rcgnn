{
 "cells": [
  {
   "cell_type": "code",
   "execution_count": 48,
   "id": "47acafee",
   "metadata": {},
   "outputs": [],
   "source": [
    "import json\n",
    "import pandas as pd\n",
    "from rdkit import Chem\n",
    "from rdkit.Chem import AllChem\n",
    "from src.utils import construct_sparse_adj_mat\n",
    "from pathlib import Path\n",
    "from collections import Counter, defaultdict\n",
    "from itertools import chain\n",
    "import numpy as np"
   ]
  },
  {
   "cell_type": "code",
   "execution_count": 18,
   "id": "b92c40cc",
   "metadata": {},
   "outputs": [],
   "source": [
    "rng = np.random.default_rng(42)\n",
    "n = 1000\n",
    "ps = 0.8\n",
    "y = np.concatenate([np.zeros(n), np.ones(n)])\n",
    "get_y_pred = lambda n, ps: np.random.rand(n) < ps\n",
    "y_pred = np.concatenate([get_y_pred(n, ps), ~get_y_pred(n, ps)]).astype(int)"
   ]
  },
  {
   "cell_type": "code",
   "execution_count": 19,
   "id": "9bd9628f",
   "metadata": {},
   "outputs": [
    {
     "name": "stdout",
     "output_type": "stream",
     "text": [
      "Accuracy: 0.200 (0.183, 0.218)\n",
      "Plus or minus 0.009\n"
     ]
    }
   ],
   "source": [
    "n_bootstraps = 20\n",
    "get_acc = lambda y, y_pred: (y == y_pred).mean()\n",
    "mean_acc = get_acc(y, y_pred)\n",
    "bootstrap_accs = []\n",
    "for _ in range(n_bootstraps):\n",
    "    indices = np.random.choice(len(y), len(y), replace=True)\n",
    "    bootstrap_accs.append(get_acc(y[indices], y_pred[indices]))\n",
    "\n",
    "ci_lo = np.percentile(bootstrap_accs, 2.5)\n",
    "ci_hi = np.percentile(bootstrap_accs, 97.5)\n",
    "sttdev = np.std(bootstrap_accs)\n",
    "print(f\"Accuracy: {mean_acc:.3f} ({ci_lo:.3f}, {ci_hi:.3f})\")\n",
    "print(f\"Plus or minus {sttdev:.3f}\")"
   ]
  },
  {
   "cell_type": "code",
   "execution_count": 20,
   "id": "20b09426",
   "metadata": {},
   "outputs": [],
   "source": [
    "def foo(generator, n):\n",
    "    print(generator.random(n))"
   ]
  },
  {
   "cell_type": "code",
   "execution_count": 31,
   "id": "50da8ed4",
   "metadata": {},
   "outputs": [
    {
     "name": "stdout",
     "output_type": "stream",
     "text": [
      "[0.10774095 0.91601185 0.23021399 0.03741256 0.55485247 0.37092228\n",
      " 0.82978974 0.80825147 0.31713889 0.9528994 ]\n",
      "[0.29091784 0.51505713 0.25596509 0.93604357 0.16460782 0.04491062\n",
      " 0.43509706 0.99237556 0.89167727 0.74860802]\n"
     ]
    }
   ],
   "source": [
    "foo(rng, 10)\n",
    "foo(rng, 10)"
   ]
  },
  {
   "cell_type": "code",
   "execution_count": 34,
   "id": "b2a8f3e3",
   "metadata": {},
   "outputs": [
    {
     "name": "stdout",
     "output_type": "stream",
     "text": [
      "Number of reaction pairs from same rule cluster: 556,339,628\n"
     ]
    }
   ],
   "source": [
    "dir = \"/home/stef/quest_data/hiec/data/sprhea\"\n",
    "\n",
    "\n",
    "with open(Path(dir) / \"v3_folded_pt_ns.json\", 'r') as f:\n",
    "    krs = json.load(f)\n",
    "\n",
    "with open(Path(dir) / \"v3_folded_pt_ns_arc_unobserved_reactions.json\", 'r') as f:\n",
    "    unobs_rxns = json.load(f)\n",
    "\n",
    "rxns = {**krs, **unobs_rxns}\n",
    "clusters = defaultdict(set)\n",
    "for k, v in rxns.items():\n",
    "    rules = tuple(sorted(v['min_rules']))\n",
    "    clusters[rules].add(k)\n",
    "\n",
    "get_n_combos = lambda n: n * (n - 1) // 2\n",
    "n_combos = sum(get_n_combos(len(v)) for v in clusters.values())\n",
    "print(f\"Number of reaction pairs from same rule cluster: {n_combos:,}\")\n"
   ]
  },
  {
   "cell_type": "code",
   "execution_count": 36,
   "id": "fda1c733",
   "metadata": {},
   "outputs": [
    {
     "data": {
      "text/html": [
       "<div>\n",
       "<style scoped>\n",
       "    .dataframe tbody tr th:only-of-type {\n",
       "        vertical-align: middle;\n",
       "    }\n",
       "\n",
       "    .dataframe tbody tr th {\n",
       "        vertical-align: top;\n",
       "    }\n",
       "\n",
       "    .dataframe thead th {\n",
       "        text-align: right;\n",
       "    }\n",
       "</style>\n",
       "<table border=\"1\" class=\"dataframe\">\n",
       "  <thead>\n",
       "    <tr style=\"text-align: right;\">\n",
       "      <th></th>\n",
       "      <th>protein_idx</th>\n",
       "      <th>reaction_idx</th>\n",
       "      <th>pid</th>\n",
       "      <th>rid</th>\n",
       "      <th>protein_embedding</th>\n",
       "      <th>am_smarts</th>\n",
       "      <th>reaction_center</th>\n",
       "      <th>y</th>\n",
       "    </tr>\n",
       "  </thead>\n",
       "  <tbody>\n",
       "    <tr>\n",
       "      <th>0</th>\n",
       "      <td>222</td>\n",
       "      <td>187</td>\n",
       "      <td>Q9KJ20</td>\n",
       "      <td>7694</td>\n",
       "      <td>[-0.012849729, 0.16863914, -0.07288795, -0.055...</td>\n",
       "      <td>[S+:1]([CH2:2][CH2:4][CH:6]([NH2:9])[C:10](=[O...</td>\n",
       "      <td>[[[0, 1], [1]], [[14], [0, 1]]]</td>\n",
       "      <td>1</td>\n",
       "    </tr>\n",
       "    <tr>\n",
       "      <th>1</th>\n",
       "      <td>223</td>\n",
       "      <td>187</td>\n",
       "      <td>Q83WC3</td>\n",
       "      <td>7694</td>\n",
       "      <td>[-0.020623509, 0.14122067, -0.12404032, -0.027...</td>\n",
       "      <td>[S+:1]([CH2:2][CH2:4][CH:6]([NH2:9])[C:10](=[O...</td>\n",
       "      <td>[[[0, 1], [1]], [[14], [0, 1]]]</td>\n",
       "      <td>1</td>\n",
       "    </tr>\n",
       "    <tr>\n",
       "      <th>2</th>\n",
       "      <td>224</td>\n",
       "      <td>187</td>\n",
       "      <td>Q9KJ21</td>\n",
       "      <td>7694</td>\n",
       "      <td>[-0.01765835, 0.14142956, -0.0953328, -0.06397...</td>\n",
       "      <td>[S+:1]([CH2:2][CH2:4][CH:6]([NH2:9])[C:10](=[O...</td>\n",
       "      <td>[[[0, 1], [1]], [[14], [0, 1]]]</td>\n",
       "      <td>1</td>\n",
       "    </tr>\n",
       "    <tr>\n",
       "      <th>3</th>\n",
       "      <td>13363</td>\n",
       "      <td>187</td>\n",
       "      <td>Q9KJ22</td>\n",
       "      <td>7694</td>\n",
       "      <td>[-0.044674527, 0.17813939, -0.057687543, -0.07...</td>\n",
       "      <td>[S+:1]([CH2:2][CH2:4][CH:6]([NH2:9])[C:10](=[O...</td>\n",
       "      <td>[[[0, 1], [1]], [[14], [0, 1]]]</td>\n",
       "      <td>1</td>\n",
       "    </tr>\n",
       "    <tr>\n",
       "      <th>4</th>\n",
       "      <td>13364</td>\n",
       "      <td>187</td>\n",
       "      <td>Q7U4Z8</td>\n",
       "      <td>7694</td>\n",
       "      <td>[-0.029929712, 0.16648583, -0.016743593, -0.03...</td>\n",
       "      <td>[S+:1]([CH2:2][CH2:4][CH:6]([NH2:9])[C:10](=[O...</td>\n",
       "      <td>[[[0, 1], [1]], [[14], [0, 1]]]</td>\n",
       "      <td>1</td>\n",
       "    </tr>\n",
       "  </tbody>\n",
       "</table>\n",
       "</div>"
      ],
      "text/plain": [
       "   protein_idx  reaction_idx     pid   rid  \\\n",
       "0          222           187  Q9KJ20  7694   \n",
       "1          223           187  Q83WC3  7694   \n",
       "2          224           187  Q9KJ21  7694   \n",
       "3        13363           187  Q9KJ22  7694   \n",
       "4        13364           187  Q7U4Z8  7694   \n",
       "\n",
       "                                   protein_embedding  \\\n",
       "0  [-0.012849729, 0.16863914, -0.07288795, -0.055...   \n",
       "1  [-0.020623509, 0.14122067, -0.12404032, -0.027...   \n",
       "2  [-0.01765835, 0.14142956, -0.0953328, -0.06397...   \n",
       "3  [-0.044674527, 0.17813939, -0.057687543, -0.07...   \n",
       "4  [-0.029929712, 0.16648583, -0.016743593, -0.03...   \n",
       "\n",
       "                                           am_smarts  \\\n",
       "0  [S+:1]([CH2:2][CH2:4][CH:6]([NH2:9])[C:10](=[O...   \n",
       "1  [S+:1]([CH2:2][CH2:4][CH:6]([NH2:9])[C:10](=[O...   \n",
       "2  [S+:1]([CH2:2][CH2:4][CH:6]([NH2:9])[C:10](=[O...   \n",
       "3  [S+:1]([CH2:2][CH2:4][CH:6]([NH2:9])[C:10](=[O...   \n",
       "4  [S+:1]([CH2:2][CH2:4][CH:6]([NH2:9])[C:10](=[O...   \n",
       "\n",
       "                   reaction_center  y  \n",
       "0  [[[0, 1], [1]], [[14], [0, 1]]]  1  \n",
       "1  [[[0, 1], [1]], [[14], [0, 1]]]  1  \n",
       "2  [[[0, 1], [1]], [[14], [0, 1]]]  1  \n",
       "3  [[[0, 1], [1]], [[14], [0, 1]]]  1  \n",
       "4  [[[0, 1], [1]], [[14], [0, 1]]]  1  "
      ]
     },
     "execution_count": 36,
     "metadata": {},
     "output_type": "execute_result"
    }
   ],
   "source": [
    "dir = Path(\"/home/stef/quest_data/hiec/scratch/sprhea_v3_folded_pt_ns/rcmcs/3fold\")\n",
    "\n",
    "train_data = pd.concat(\n",
    "    pd.read_parquet(dir / f\"train_val_{i}.parquet\") for i in range(3)\n",
    ")\n",
    "\n",
    "train_data.head()"
   ]
  },
  {
   "cell_type": "code",
   "execution_count": 37,
   "id": "2a263846",
   "metadata": {},
   "outputs": [
    {
     "data": {
      "text/html": [
       "<div>\n",
       "<style scoped>\n",
       "    .dataframe tbody tr th:only-of-type {\n",
       "        vertical-align: middle;\n",
       "    }\n",
       "\n",
       "    .dataframe tbody tr th {\n",
       "        vertical-align: top;\n",
       "    }\n",
       "\n",
       "    .dataframe thead th {\n",
       "        text-align: right;\n",
       "    }\n",
       "</style>\n",
       "<table border=\"1\" class=\"dataframe\">\n",
       "  <thead>\n",
       "    <tr style=\"text-align: right;\">\n",
       "      <th></th>\n",
       "      <th>protein_idx</th>\n",
       "      <th>reaction_idx</th>\n",
       "      <th>pid</th>\n",
       "      <th>rid</th>\n",
       "      <th>protein_embedding</th>\n",
       "      <th>am_smarts</th>\n",
       "      <th>reaction_center</th>\n",
       "      <th>y</th>\n",
       "    </tr>\n",
       "  </thead>\n",
       "  <tbody>\n",
       "    <tr>\n",
       "      <th>0</th>\n",
       "      <td>16113</td>\n",
       "      <td>5226</td>\n",
       "      <td>Q09KQ6</td>\n",
       "      <td>16449</td>\n",
       "      <td>[0.038376495, 0.18099314, 0.10217904, 0.086344...</td>\n",
       "      <td>[C:1](=[CH:3][CH:5]=[CH:8][C:9](=[O:10])[OH:11...</td>\n",
       "      <td>[[[6, 7], [0]], [[1, 0], [0]]]</td>\n",
       "      <td>1</td>\n",
       "    </tr>\n",
       "    <tr>\n",
       "      <th>1</th>\n",
       "      <td>21408</td>\n",
       "      <td>5226</td>\n",
       "      <td>Q9CZU6</td>\n",
       "      <td>16449</td>\n",
       "      <td>[0.046930913, 0.19558673, 0.035590347, -0.0470...</td>\n",
       "      <td>[C:1](=[CH:3][CH:5]=[CH:8][C:9](=[O:10])[OH:11...</td>\n",
       "      <td>[[[6, 7], [0]], [[1, 0], [0]]]</td>\n",
       "      <td>0</td>\n",
       "    </tr>\n",
       "    <tr>\n",
       "      <th>2</th>\n",
       "      <td>7098</td>\n",
       "      <td>5226</td>\n",
       "      <td>Q5XI78</td>\n",
       "      <td>16449</td>\n",
       "      <td>[-0.012881524, 0.28901568, 0.061466977, -0.024...</td>\n",
       "      <td>[C:1](=[CH:3][CH:5]=[CH:8][C:9](=[O:10])[OH:11...</td>\n",
       "      <td>[[[6, 7], [0]], [[1, 0], [0]]]</td>\n",
       "      <td>0</td>\n",
       "    </tr>\n",
       "    <tr>\n",
       "      <th>3</th>\n",
       "      <td>11061</td>\n",
       "      <td>5226</td>\n",
       "      <td>Q8RXV3</td>\n",
       "      <td>16449</td>\n",
       "      <td>[-0.19607657, 0.31087485, -0.117286794, -0.082...</td>\n",
       "      <td>[C:1](=[CH:3][CH:5]=[CH:8][C:9](=[O:10])[OH:11...</td>\n",
       "      <td>[[[6, 7], [0]], [[1, 0], [0]]]</td>\n",
       "      <td>0</td>\n",
       "    </tr>\n",
       "    <tr>\n",
       "      <th>4</th>\n",
       "      <td>24151</td>\n",
       "      <td>5226</td>\n",
       "      <td>O30418</td>\n",
       "      <td>16449</td>\n",
       "      <td>[0.0678145, 0.28062484, -0.051406916, 0.019343...</td>\n",
       "      <td>[C:1](=[CH:3][CH:5]=[CH:8][C:9](=[O:10])[OH:11...</td>\n",
       "      <td>[[[6, 7], [0]], [[1, 0], [0]]]</td>\n",
       "      <td>0</td>\n",
       "    </tr>\n",
       "  </tbody>\n",
       "</table>\n",
       "</div>"
      ],
      "text/plain": [
       "   protein_idx  reaction_idx     pid    rid  \\\n",
       "0        16113          5226  Q09KQ6  16449   \n",
       "1        21408          5226  Q9CZU6  16449   \n",
       "2         7098          5226  Q5XI78  16449   \n",
       "3        11061          5226  Q8RXV3  16449   \n",
       "4        24151          5226  O30418  16449   \n",
       "\n",
       "                                   protein_embedding  \\\n",
       "0  [0.038376495, 0.18099314, 0.10217904, 0.086344...   \n",
       "1  [0.046930913, 0.19558673, 0.035590347, -0.0470...   \n",
       "2  [-0.012881524, 0.28901568, 0.061466977, -0.024...   \n",
       "3  [-0.19607657, 0.31087485, -0.117286794, -0.082...   \n",
       "4  [0.0678145, 0.28062484, -0.051406916, 0.019343...   \n",
       "\n",
       "                                           am_smarts  \\\n",
       "0  [C:1](=[CH:3][CH:5]=[CH:8][C:9](=[O:10])[OH:11...   \n",
       "1  [C:1](=[CH:3][CH:5]=[CH:8][C:9](=[O:10])[OH:11...   \n",
       "2  [C:1](=[CH:3][CH:5]=[CH:8][C:9](=[O:10])[OH:11...   \n",
       "3  [C:1](=[CH:3][CH:5]=[CH:8][C:9](=[O:10])[OH:11...   \n",
       "4  [C:1](=[CH:3][CH:5]=[CH:8][C:9](=[O:10])[OH:11...   \n",
       "\n",
       "                  reaction_center  y  \n",
       "0  [[[6, 7], [0]], [[1, 0], [0]]]  1  \n",
       "1  [[[6, 7], [0]], [[1, 0], [0]]]  0  \n",
       "2  [[[6, 7], [0]], [[1, 0], [0]]]  0  \n",
       "3  [[[6, 7], [0]], [[1, 0], [0]]]  0  \n",
       "4  [[[6, 7], [0]], [[1, 0], [0]]]  0  "
      ]
     },
     "execution_count": 37,
     "metadata": {},
     "output_type": "execute_result"
    }
   ],
   "source": [
    "test_data = pd.read_parquet(dir / \"test.parquet\")\n",
    "test_data.head()"
   ]
  },
  {
   "cell_type": "code",
   "execution_count": 38,
   "id": "53d030bb",
   "metadata": {},
   "outputs": [],
   "source": [
    "train_rxns = set(train_data['rid'])\n",
    "test_rxns = set(test_data['rid'])"
   ]
  },
  {
   "cell_type": "code",
   "execution_count": null,
   "id": "fb4e8799",
   "metadata": {},
   "outputs": [],
   "source": [
    "train_rules = set([tuple(sorted(v['min_rules'])) for k, v in krs.items() if k in train_rxns])\n",
    "test_rules = set([tuple(sorted(v['min_rules'])) for k, v in krs.items() if k in test_rxns])\n"
   ]
  },
  {
   "cell_type": "code",
   "execution_count": 51,
   "id": "c1684a5e",
   "metadata": {},
   "outputs": [
    {
     "name": "stdout",
     "output_type": "stream",
     "text": [
      "216 43\n",
      "132\n"
     ]
    }
   ],
   "source": [
    "train_only_rules = train_rules - test_rules\n",
    "test_only_rules = test_rules - train_rules\n",
    "print(len(train_only_rules), len(test_only_rules))\n",
    "print(len(train_rules & test_rules))"
   ]
  },
  {
   "cell_type": "code",
   "execution_count": 47,
   "id": "24044e01",
   "metadata": {},
   "outputs": [],
   "source": [
    "unobs_clusters = defaultdict(set)\n",
    "for k in unobs_rxns.keys():\n",
    "    rules = tuple(sorted(unobs_rxns[k]['min_rules']))\n",
    "    unobs_clusters[rules].add(k)"
   ]
  },
  {
   "cell_type": "code",
   "execution_count": 49,
   "id": "bdc1df7b",
   "metadata": {},
   "outputs": [
    {
     "name": "stdout",
     "output_type": "stream",
     "text": [
      "4867 400\n"
     ]
    }
   ],
   "source": [
    "train_only_unobs = set(chain(*(unobs_clusters[r] for r in train_only_rules if r in unobs_clusters)))\n",
    "test_only_unobs = set(chain(*(unobs_clusters[r] for r in test_only_rules if r in unobs_clusters)))\n",
    "print(len(train_only_unobs), len(test_only_unobs))"
   ]
  }
 ],
 "metadata": {
  "kernelspec": {
   "display_name": "clipzyme",
   "language": "python",
   "name": "python3"
  },
  "language_info": {
   "codemirror_mode": {
    "name": "ipython",
    "version": 3
   },
   "file_extension": ".py",
   "mimetype": "text/x-python",
   "name": "python",
   "nbconvert_exporter": "python",
   "pygments_lexer": "ipython3",
   "version": "3.10.18"
  }
 },
 "nbformat": 4,
 "nbformat_minor": 5
}
