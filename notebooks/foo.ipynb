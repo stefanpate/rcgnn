{
 "cells": [
  {
   "cell_type": "code",
   "execution_count": 6,
   "id": "b2a33e4c",
   "metadata": {},
   "outputs": [],
   "source": [
    "import json\n",
    "from pathlib import Path\n",
    "from src.cross_validation import parse_cd_hit_clusters\n",
    "from rdkit import Chem"
   ]
  },
  {
   "cell_type": "code",
   "execution_count": 2,
   "id": "48797483",
   "metadata": {},
   "outputs": [],
   "source": [
    "dir = \"/home/stef/hiec/artifacts/clustering\"\n",
    "dataset = 'sprhea'\n",
    "toc = 'v3_folded_pt_ns'\n",
    "strats = ['rcmcs', 'esm', 'gsi', 'blosum']\n",
    "cutoffs = [\n",
    "    (80, 60, 40),\n",
    "    (99, 98, 97, 95),\n",
    "    (35, 30, 25),\n",
    "    (80, 60, 40)\n",
    "]"
   ]
  },
  {
   "cell_type": "code",
   "execution_count": 3,
   "id": "fc239f67",
   "metadata": {},
   "outputs": [
    {
     "name": "stdout",
     "output_type": "stream",
     "text": [
      "rcmcs 80: 2528\n",
      "rcmcs 60: 1351\n",
      "rcmcs 40: 758\n",
      "esm 99: 9382\n",
      "esm 98: 5768\n",
      "esm 97: 3310\n",
      "esm 95: 691\n",
      "gsi 35: 8332\n",
      "gsi 30: 2656\n",
      "gsi 25: 334\n",
      "blosum 80: 716\n",
      "blosum 60: 72\n",
      "blosum 40: 69\n"
     ]
    }
   ],
   "source": [
    "for strat, cuts in zip(strats, cutoffs):\n",
    "    for c in cuts:\n",
    "        path = Path(dir) / f\"{dataset}_{toc}_{strat}_{c}.json\"\n",
    "        with open(path) as f:\n",
    "            data = json.load(f)\n",
    "\n",
    "        print(f\"{strat} {c}: {len(set(data.values()))}\")"
   ]
  },
  {
   "cell_type": "code",
   "execution_count": 35,
   "id": "ce0d6c25",
   "metadata": {},
   "outputs": [],
   "source": [
    "with open(\"/home/stef/quest_data/hiec/data/sprhea/v3_folded_pt_ns_arc_unobserved_reactions.json\", 'r') as f:\n",
    "    unobserved = json.load(f)"
   ]
  },
  {
   "cell_type": "code",
   "execution_count": 36,
   "id": "bf3ceacf",
   "metadata": {},
   "outputs": [
    {
     "name": "stdout",
     "output_type": "stream",
     "text": [
      "86595\n",
      "[O:78]=[c:77]1[cH:74][cH:72][n:70]([CH:67]2[O:65][CH:64]([CH2:63][O:60][P:59](=[O:61])([OH:57])[OH:62])[CH:66]([OH:68])[CH:69]2[OH:71])[c:73](=[O:75])[nH:76]1.[CH3:12][C:8](=[O:13])[NH:5][CH:3]1[CH:2]([O:1][P:58](=[O:79])([OH:80])[O:81][P:82](=[O:83])([OH:84])[O:85][CH2:86][CH:87]=[C:88]([CH3:89])[CH2:90][CH2:91][CH:92]=[C:93]([CH3:94])[CH2:95][CH2:96][CH:97]=[C:98]([CH3:99])[CH2:100][CH2:101][CH:102]=[C:103]([CH3:104])[CH2:105][CH2:106][CH:107]=[C:108]([CH3:109])[CH2:110][CH2:111][CH:112]=[C:113]([CH3:114])[CH2:115][CH2:116][CH:117]=[C:118]([CH3:119])[CH2:120][CH2:121][CH:122]=[C:123]([CH3:124])[CH2:125][CH2:126][CH:127]=[C:128]([CH3:129])[CH2:130][CH2:131][CH:132]=[C:133]([CH3:134])[CH2:135][CH2:136][CH:137]=[C:138]([CH3:139])[CH3:140])[O:4][CH:7]([CH2:11][OH:16])[CH:9]([OH:14])[CH:6]1[O:10][CH:15]([CH3:17])[C:18](=[O:19])[NH:20][CH:21]([CH3:22])[C:23](=[O:24])[NH:25][CH:26]([CH2:27][CH2:29][C:32](=[O:33])[NH:34][CH:35]([CH2:36][CH2:38][CH2:41][CH:43]([NH2:46])[C:47](=[O:50])[OH:51])[C:37](=[O:39])[NH:40][CH:42]([CH3:44])[C:45](=[O:48])[NH:49][CH:52]([CH3:53])[C:54](=[O:55])[OH:56])[C:28](=[O:30])[OH:31]>>[CH3:12][C:8](=[O:13])[NH:5][CH:3]1[CH:2]([OH:1])[O:4][CH:7]([CH2:11][OH:16])[CH:9]([OH:14])[CH:6]1[O:10][CH:15]([CH3:17])[C:18](=[O:19])[NH:20][CH:21]([CH3:22])[C:23](=[O:24])[NH:25][CH:26]([CH2:27][CH2:29][C:32](=[O:33])[NH:34][CH:35]([CH2:36][CH2:38][CH2:41][CH:43]([NH2:46])[C:47](=[O:50])[OH:51])[C:37](=[O:39])[NH:40][CH:42]([CH3:44])[C:45](=[O:48])[NH:49][CH:52]([CH3:53])[C:54](=[O:55])[OH:56])[C:28](=[O:30])[OH:31].[CH3:139][C:138]([CH3:140])=[CH:137][CH2:136][CH2:135][C:133]([CH3:134])=[CH:132][CH2:131][CH2:130][C:128]([CH3:129])=[CH:127][CH2:126][CH2:125][C:123]([CH3:124])=[CH:122][CH2:121][CH2:120][C:118]([CH3:119])=[CH:117][CH2:116][CH2:115][C:113]([CH3:114])=[CH:112][CH2:111][CH2:110][C:108]([CH3:109])=[CH:107][CH2:106][CH2:105][C:103]([CH3:104])=[CH:102][CH2:101][CH2:100][C:98]([CH3:99])=[CH:97][CH2:96][CH2:95][C:93]([CH3:94])=[CH:92][CH2:91][CH2:90][C:88]([CH3:89])=[CH:87][CH2:86][O:85][P:82](=[O:83])([OH:84])[O:81][P:58](=[O:79])([OH:80])[O:57][P:59](=[O:61])([OH:62])[O:60][CH2:63][CH:64]1[O:65][CH:67]([n:70]2[cH:72][cH:74][c:77](=[O:78])[nH:76][c:73]2=[O:75])[CH:69]([OH:71])[CH:66]1[OH:68]\n"
     ]
    }
   ],
   "source": [
    "print(len (unobserved))\n",
    "print(unobserved[list(unobserved.keys())[0]]['am_smarts'])"
   ]
  },
  {
   "cell_type": "code",
   "execution_count": 37,
   "id": "0149b1f1",
   "metadata": {},
   "outputs": [],
   "source": [
    "missing_am = {}\n",
    "for k, v in unobserved.items():\n",
    "    sma = v['am_smarts']\n",
    "    sma = \".\".join(sma.split(\">>\"))\n",
    "    mol = Chem.MolFromSmarts(sma)\n",
    "    for atom in mol.GetAtoms():\n",
    "        if atom.GetAtomMapNum() == 0:\n",
    "            missing_am[k] = sma\n",
    "            break"
   ]
  },
  {
   "cell_type": "code",
   "execution_count": 40,
   "id": "97a6f768",
   "metadata": {},
   "outputs": [
    {
     "data": {
      "text/plain": [
       "0"
      ]
     },
     "execution_count": 40,
     "metadata": {},
     "output_type": "execute_result"
    }
   ],
   "source": [
    "len(missing_am)"
   ]
  },
  {
   "cell_type": "code",
   "execution_count": 19,
   "id": "e74ca92f",
   "metadata": {},
   "outputs": [],
   "source": [
    "i = 0\n",
    "keys = list(missing_am.keys())"
   ]
  },
  {
   "cell_type": "code",
   "execution_count": 26,
   "id": "0184a84e",
   "metadata": {},
   "outputs": [
    {
     "name": "stdout",
     "output_type": "stream",
     "text": [
      "[O:78]=[c:77]1[cH:74][cH:72][n:70]([CH:67]2[O:65][CH:64]([CH2:63][O:60][P:59](=[O:61])([OH:57])[OH:62])[CH:66]([OH:68])[CH:69]2[OH:71])[c:73](=[O:75])[nH:76]1\n",
      "[CH3:96][C:92](=[O:97])[NH:89][CH:87]1[CH:86]([O:83][P:82](=[O:84])([OH:85])[O:79][P:58](=[O:80])([OH:81])OCC=C(C)CCC=C(C)CCC=C(C)CCC=C(C)CCC=C(C)CCC=C(C)CCC=C(C)CCC=C(C)CCC=C(C)CCC=C(C)CCC=C(C)C)[O:88][CH:91]([CH2:95][OH:100])[CH:93]([OH:98])[CH:90]1[O:94][CH:99]([CH3:101])[C:102](=[O:103])[NH:104][CH:105]([CH3:106])[C:107](=[O:108])[NH:109][CH:110]([CH2:111][CH2:113][C:116](=[O:117])[NH:118][CH:119]([CH2:120][CH2:122][CH2:125][CH:127]([NH2:130])[C:131](=[O:134])[OH:135])[C:121](=[O:123])[NH:124][CH:126]([CH3:128])[C:129](=[O:132])[NH:133][CH:136]([CH3:137])[C:138](=[O:139])[OH:140])[C:112](=[O:114])[OH:115]\n",
      "[CH3:55][C:54]([CH3:56])=[CH:53][CH2:52][CH2:51][C:49]([CH3:50])=[CH:48][CH2:47][CH2:46][C:44]([CH3:45])=[CH:43][CH2:42][CH2:41][C:39]([CH3:40])=[CH:38][CH2:37][CH2:36][C:34]([CH3:35])=[CH:33][CH2:32][CH2:31][C:29]([CH3:30])=[CH:28][CH2:27][CH2:26][C:24]([CH3:25])=[CH:23][CH2:22][CH2:21][C:19]([CH3:20])=[CH:18][CH2:17][CH2:16][C:14]([CH3:15])=[CH:13][CH2:12][CH2:11][C:9]([CH3:10])=[CH:8][CH2:7][CH2:6][C:4]([CH3:5])=[CH:3][CH2:2][OH:1]\n",
      "[CH3:96][C:92](=[O:97])[NH:89][CH:87]1[CH:86]([O:83][P:82](=[O:84])([OH:85])[O:79][P:58](=[O:80])([OH:81])[O:57][P:59](=[O:61])([OH:62])[O:60][CH2:63][CH:64]2[O:65][CH:67]([n:70]3[cH:72][cH:74][c:77](=[O:78])[nH:76][c:73]3=[O:75])[CH:69]([OH:71])[CH:66]2[OH:68])[O:88][CH:91]([CH2:95][OH:100])[CH:93]([OH:98])[CH:90]1[O:94][CH:99]([CH3:101])[C:102](=[O:103])[NH:104][CH:105]([CH3:106])[C:107](=[O:108])[NH:109][CH:110]([CH2:111][CH2:113][C:116](=[O:117])[NH:118][CH:119]([CH2:120][CH2:122][CH2:125][CH:127]([NH2:130])[C:131](=[O:134])[OH:135])[C:121](=[O:123])[NH:124][CH:126]([CH3:128])[C:129](=[O:132])[NH:133][CH:136]([CH3:137])[C:138](=[O:139])[OH:140])[C:112](=[O:114])[OH:115]\n"
     ]
    }
   ],
   "source": [
    "for side in missing_am[keys[i]].split(\".\"):\n",
    "    print(side)\n",
    "i+=1"
   ]
  },
  {
   "cell_type": "code",
   "execution_count": 18,
   "id": "43dc267c",
   "metadata": {},
   "outputs": [
    {
     "data": {
      "text/plain": [
       "['[O:23]=[c:22]1[cH:19][cH:17][n:15]([CH:12]2[O:10][CH:9]([CH2:8][O:5][P:4](=[O:6])([OH:2])[OH:7])[CH:11]([OH:13])[CH:14]2[OH:16])[c:18](=[O:20])[nH:21]1.[CH3:43][C:38](=[O:44])[NH:34][CH:29]1[CH:27]([O:24][P:3](=[O:25])(O)[O:26][P:28](=[O:31])([OH:32])[O:33][CH2:37][CH:42]=[C:48]([CH3:51])[CH2:52][CH2:55][CH:57]=[C:60]([CH3:63])[CH2:64][CH2:66][CH:69]=[C:73]([CH3:75])[CH2:76][CH2:79][CH:81]=[C:84]([CH3:88])[CH2:89][CH2:92][CH:96]=[C:101]([CH3:105])[CH2:106][CH2:109][CH:112]=[C:113]([CH3:114])[CH2:115][CH2:116][CH:117]=[C:118]([CH3:119])[CH2:120][CH2:121][CH:122]=[C:123]([CH3:124])[CH2:125][CH2:126][CH:127]=[C:128]([CH3:129])[CH2:130][CH2:131][CH:132]=[C:133]([CH3:134])[CH2:135][CH2:136][CH:137]=[C:138]([CH3:139])[CH3:140])[O:30][CH:36]([CH2:41][OH:47])[CH:39]([OH:45])[CH:35]1[O:40][CH:46]([CH3:49])[C:50](=[O:53])[NH:54][CH:56]([CH3:58])[C:59](=[O:61])[NH:62][CH:65]([CH2:67][CH2:70][C:74](=[O:77])[NH:78][CH:80]([CH2:82][CH2:85][CH2:90][CH:93]([NH2:97])[C:98](=[O:102])[OH:103])[C:83](=[O:86])[NH:87][CH:91]([CH3:94])[C:95](=[O:99])[NH:100][CH:104]([CH3:107])[C:108](=[O:110])[OH:111])[C:68](=[O:71])[OH:72].[OH2:1].[CH3:43][C:38](=[O:44])[NH:34][CH:29]1[CH:27]([O:24][P:3](=[O:25])([O:26][P:28](=[O:31])([OH:32])[O:33][CH2:37][CH:42]=[C:48]([CH3:51])[CH2:52][CH2:55][CH:57]=[C:60]([CH3:63])[CH2:64][CH2:66][CH:69]=[C:73]([CH3:75])[CH2:76][CH2:79][CH:81]=[C:84]([CH3:88])[CH2:89][CH2:92][CH:96]=[C:101]([CH3:105])[CH2:106][CH2:109][CH:112]=[C:113]([CH3:114])[CH2:115][CH2:116][CH:117]=[C:118]([CH3:119])[CH2:120][CH2:121][CH:122]=[C:123]([CH3:124])[CH2:125][CH2:126][CH:127]=[C:128]([CH3:129])[CH2:130][CH2:131][CH:132]=[C:133]([CH3:134])[CH2:135][CH2:136][CH:137]=[C:138]([CH3:139])[CH3:140])[O:2][P:4](=[O:6])([OH:7])[O:5][CH2:8][CH:9]2[O:10][CH:12]([n:15]3[cH:17][cH:19][c:22](=[O:23])[nH:21][c:18]3=[O:20])[CH:14]([OH:16])[CH:11]2[OH:13])[O:30][CH:36]([CH2:41][OH:47])[CH:39]([OH:45])[CH:35]1[O:40][CH:46]([CH3:49])[C:50](=[O:53])[NH:54][CH:56]([CH3:58])[C:59](=[O:61])[NH:62][CH:65]([CH2:67][CH2:70][C:74](=[O:77])[NH:78][CH:80]([CH2:82][CH2:85][CH2:90][CH:93]([NH2:97])[C:98](=[O:102])[OH:103])[C:83](=[O:86])[NH:87][CH:91]([CH3:94])[C:95](=[O:99])[NH:100][CH:104]([CH3:107])[C:108](=[O:110])[OH:111])[C:68](=[O:71])[OH:72]']"
      ]
     },
     "execution_count": 18,
     "metadata": {},
     "output_type": "execute_result"
    }
   ],
   "source": [
    "\n",
    "next(it)"
   ]
  },
  {
   "cell_type": "code",
   "execution_count": null,
   "id": "8d6be8c1",
   "metadata": {},
   "outputs": [],
   "source": []
  }
 ],
 "metadata": {
  "kernelspec": {
   "display_name": "hiec2",
   "language": "python",
   "name": "python3"
  },
  "language_info": {
   "codemirror_mode": {
    "name": "ipython",
    "version": 3
   },
   "file_extension": ".py",
   "mimetype": "text/x-python",
   "name": "python",
   "nbconvert_exporter": "python",
   "pygments_lexer": "ipython3",
   "version": "3.11.5"
  }
 },
 "nbformat": 4,
 "nbformat_minor": 5
}
