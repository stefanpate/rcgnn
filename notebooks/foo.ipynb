{
 "cells": [
  {
   "cell_type": "code",
   "execution_count": 1,
   "id": "b2a33e4c",
   "metadata": {},
   "outputs": [],
   "source": [
    "import json\n",
    "from pathlib import Path\n",
    "from src.cross_validation import parse_cd_hit_clusters\n",
    "from rdkit import Chem\n",
    "from tqdm import tqdm\n",
    "from collections import Counter\n",
    "import numpy as np\n",
    "import pandas as pd\n",
    "from sklearn.metrics import (\n",
    "    accuracy_score,\n",
    "    precision_score,\n",
    "    recall_score,\n",
    "    f1_score,\n",
    "    roc_auc_score,\n",
    "    average_precision_score,\n",
    ")\n",
    "import matplotlib.pyplot as plt"
   ]
  },
  {
   "cell_type": "code",
   "execution_count": 2,
   "id": "48797483",
   "metadata": {},
   "outputs": [],
   "source": [
    "dir = \"/home/stef/hiec/artifacts/clustering\"\n",
    "dataset = 'sprhea'\n",
    "toc = 'v3_folded_pt_ns'\n",
    "strats = ['rcmcs', 'esm', 'gsi', 'blosum']\n",
    "cutoffs = [\n",
    "    (80, 60, 40),\n",
    "    (99, 98, 97, 95),\n",
    "    (35, 30, 25),\n",
    "    (80, 60, 40)\n",
    "]"
   ]
  },
  {
   "cell_type": "code",
   "execution_count": 3,
   "id": "fc239f67",
   "metadata": {},
   "outputs": [
    {
     "name": "stdout",
     "output_type": "stream",
     "text": [
      "rcmcs 80: 2528\n",
      "rcmcs 60: 1351\n",
      "rcmcs 40: 758\n",
      "esm 99: 9382\n",
      "esm 98: 5768\n",
      "esm 97: 3310\n",
      "esm 95: 691\n",
      "gsi 35: 8332\n",
      "gsi 30: 2656\n",
      "gsi 25: 334\n",
      "blosum 80: 716\n",
      "blosum 60: 72\n",
      "blosum 40: 69\n"
     ]
    }
   ],
   "source": [
    "for strat, cuts in zip(strats, cutoffs):\n",
    "    for c in cuts:\n",
    "        path = Path(dir) / f\"{dataset}_{toc}_{strat}_{c}.json\"\n",
    "        with open(path) as f:\n",
    "            data = json.load(f)\n",
    "\n",
    "        print(f\"{strat} {c}: {len(set(data.values()))}\")"
   ]
  },
  {
   "cell_type": "code",
   "execution_count": 78,
   "id": "82c8d2c8",
   "metadata": {},
   "outputs": [
    {
     "data": {
      "text/plain": [
       "(np.float64(0.6), np.float64(0.10198039027185568))"
      ]
     },
     "execution_count": 78,
     "metadata": {},
     "output_type": "execute_result"
    }
   ],
   "source": [
    "def score(x : np.ndarray) -> float:\n",
    "    return sum(x) / len(x)\n",
    "\n",
    "def bootstrap_score(metric: callable) -> callable:\n",
    "    def f(x : np.ndarray, *args) -> tuple[float, float]:\n",
    "        scores = []\n",
    "        for _ in range(5):\n",
    "            idx = np.random.choice(len(x), len(x), replace=True)\n",
    "            scores.append(metric(x[idx], *args))\n",
    "\n",
    "        return metric(x), np.std(scores)\n",
    "    return f\n",
    "\n",
    "bs_score = bootstrap_score(score)\n",
    "\n",
    "x = np.array([1, 0, 1, 1, 0, 1, 0, 1, 1, 0])\n",
    "bs_score(x)\n",
    "            "
   ]
  },
  {
   "cell_type": "code",
   "execution_count": 5,
   "id": "5fb38bae",
   "metadata": {},
   "outputs": [
    {
     "data": {
      "text/html": [
       "<div>\n",
       "<style scoped>\n",
       "    .dataframe tbody tr th:only-of-type {\n",
       "        vertical-align: middle;\n",
       "    }\n",
       "\n",
       "    .dataframe tbody tr th {\n",
       "        vertical-align: top;\n",
       "    }\n",
       "\n",
       "    .dataframe thead th {\n",
       "        text-align: right;\n",
       "    }\n",
       "</style>\n",
       "<table border=\"1\" class=\"dataframe\">\n",
       "  <thead>\n",
       "    <tr style=\"text-align: right;\">\n",
       "      <th></th>\n",
       "      <th>protein_idx</th>\n",
       "      <th>reaction_idx</th>\n",
       "      <th>pid</th>\n",
       "      <th>rid</th>\n",
       "      <th>y</th>\n",
       "      <th>logits</th>\n",
       "    </tr>\n",
       "  </thead>\n",
       "  <tbody>\n",
       "    <tr>\n",
       "      <th>0</th>\n",
       "      <td>16113</td>\n",
       "      <td>5226</td>\n",
       "      <td>Q09KQ6</td>\n",
       "      <td>16449</td>\n",
       "      <td>1</td>\n",
       "      <td>0.643928</td>\n",
       "    </tr>\n",
       "    <tr>\n",
       "      <th>1</th>\n",
       "      <td>21408</td>\n",
       "      <td>5226</td>\n",
       "      <td>Q9CZU6</td>\n",
       "      <td>16449</td>\n",
       "      <td>0</td>\n",
       "      <td>0.586794</td>\n",
       "    </tr>\n",
       "    <tr>\n",
       "      <th>2</th>\n",
       "      <td>7098</td>\n",
       "      <td>5226</td>\n",
       "      <td>Q5XI78</td>\n",
       "      <td>16449</td>\n",
       "      <td>0</td>\n",
       "      <td>0.496528</td>\n",
       "    </tr>\n",
       "    <tr>\n",
       "      <th>3</th>\n",
       "      <td>11061</td>\n",
       "      <td>5226</td>\n",
       "      <td>Q8RXV3</td>\n",
       "      <td>16449</td>\n",
       "      <td>0</td>\n",
       "      <td>0.494431</td>\n",
       "    </tr>\n",
       "    <tr>\n",
       "      <th>4</th>\n",
       "      <td>24151</td>\n",
       "      <td>5226</td>\n",
       "      <td>O30418</td>\n",
       "      <td>16449</td>\n",
       "      <td>0</td>\n",
       "      <td>0.567291</td>\n",
       "    </tr>\n",
       "  </tbody>\n",
       "</table>\n",
       "</div>"
      ],
      "text/plain": [
       "   protein_idx  reaction_idx     pid    rid  y    logits\n",
       "0        16113          5226  Q09KQ6  16449  1  0.643928\n",
       "1        21408          5226  Q9CZU6  16449  0  0.586794\n",
       "2         7098          5226  Q5XI78  16449  0  0.496528\n",
       "3        11061          5226  Q8RXV3  16449  0  0.494431\n",
       "4        24151          5226  O30418  16449  0  0.567291"
      ]
     },
     "execution_count": 5,
     "metadata": {},
     "output_type": "execute_result"
    }
   ],
   "source": [
    "fn = '/projects/p30041/spn1560/hiec/results/predictions/clipzyme/sprhea_v3_folded_pt_ns_rcmcs_outer_fold/target_output.parquet'\n",
    "df = pd.read_parquet(fn)\n",
    "df.head()"
   ]
  },
  {
   "cell_type": "code",
   "execution_count": 6,
   "id": "dd7a0aaa",
   "metadata": {},
   "outputs": [
    {
     "data": {
      "text/plain": [
       "np.float64(0.724076837001119)"
      ]
     },
     "execution_count": 6,
     "metadata": {},
     "output_type": "execute_result"
    }
   ],
   "source": [
    "(df['y'] == (df['logits'] > 0.5)).mean()"
   ]
  },
  {
   "cell_type": "code",
   "execution_count": 7,
   "id": "39d1d14a",
   "metadata": {},
   "outputs": [
    {
     "data": {
      "text/plain": [
       "0.7279638045220533"
      ]
     },
     "execution_count": 7,
     "metadata": {},
     "output_type": "execute_result"
    }
   ],
   "source": [
    "roc_auc_score(df['y'], df['logits'])"
   ]
  },
  {
   "cell_type": "code",
   "execution_count": 8,
   "id": "0050c609",
   "metadata": {},
   "outputs": [
    {
     "data": {
      "text/plain": [
       "(np.float64(0.4842409548675867), 10724)"
      ]
     },
     "execution_count": 8,
     "metadata": {},
     "output_type": "execute_result"
    }
   ],
   "source": [
    "df['y'].mean(), len(df)"
   ]
  },
  {
   "cell_type": "code",
   "execution_count": 9,
   "id": "b376c313",
   "metadata": {},
   "outputs": [
    {
     "data": {
      "text/html": [
       "<div>\n",
       "<style scoped>\n",
       "    .dataframe tbody tr th:only-of-type {\n",
       "        vertical-align: middle;\n",
       "    }\n",
       "\n",
       "    .dataframe tbody tr th {\n",
       "        vertical-align: top;\n",
       "    }\n",
       "\n",
       "    .dataframe thead th {\n",
       "        text-align: right;\n",
       "    }\n",
       "</style>\n",
       "<table border=\"1\" class=\"dataframe\">\n",
       "  <thead>\n",
       "    <tr style=\"text-align: right;\">\n",
       "      <th></th>\n",
       "      <th>protein_idx</th>\n",
       "      <th>reaction_idx</th>\n",
       "      <th>pid</th>\n",
       "      <th>rid</th>\n",
       "      <th>y</th>\n",
       "      <th>logits</th>\n",
       "    </tr>\n",
       "  </thead>\n",
       "  <tbody>\n",
       "    <tr>\n",
       "      <th>0</th>\n",
       "      <td>16113</td>\n",
       "      <td>5226</td>\n",
       "      <td>Q09KQ6</td>\n",
       "      <td>16449</td>\n",
       "      <td>1</td>\n",
       "      <td>9.999980e-01</td>\n",
       "    </tr>\n",
       "    <tr>\n",
       "      <th>1</th>\n",
       "      <td>21408</td>\n",
       "      <td>5226</td>\n",
       "      <td>Q9CZU6</td>\n",
       "      <td>16449</td>\n",
       "      <td>0</td>\n",
       "      <td>2.327771e-08</td>\n",
       "    </tr>\n",
       "    <tr>\n",
       "      <th>2</th>\n",
       "      <td>7098</td>\n",
       "      <td>5226</td>\n",
       "      <td>Q5XI78</td>\n",
       "      <td>16449</td>\n",
       "      <td>0</td>\n",
       "      <td>1.028115e-11</td>\n",
       "    </tr>\n",
       "    <tr>\n",
       "      <th>3</th>\n",
       "      <td>11061</td>\n",
       "      <td>5226</td>\n",
       "      <td>Q8RXV3</td>\n",
       "      <td>16449</td>\n",
       "      <td>0</td>\n",
       "      <td>6.455649e-12</td>\n",
       "    </tr>\n",
       "    <tr>\n",
       "      <th>4</th>\n",
       "      <td>24151</td>\n",
       "      <td>5226</td>\n",
       "      <td>O30418</td>\n",
       "      <td>16449</td>\n",
       "      <td>0</td>\n",
       "      <td>1.486794e-10</td>\n",
       "    </tr>\n",
       "  </tbody>\n",
       "</table>\n",
       "</div>"
      ],
      "text/plain": [
       "   protein_idx  reaction_idx     pid    rid  y        logits\n",
       "0        16113          5226  Q09KQ6  16449  1  9.999980e-01\n",
       "1        21408          5226  Q9CZU6  16449  0  2.327771e-08\n",
       "2         7098          5226  Q5XI78  16449  0  1.028115e-11\n",
       "3        11061          5226  Q8RXV3  16449  0  6.455649e-12\n",
       "4        24151          5226  O30418  16449  0  1.486794e-10"
      ]
     },
     "execution_count": 9,
     "metadata": {},
     "output_type": "execute_result"
    }
   ],
   "source": [
    "fn2 = '/projects/p30041/spn1560/hiec/results/predictions/8a155bc5673b4c6aa8667dd55755fe0b/target_output.parquet'\n",
    "df2 = pd.read_parquet(fn2)\n",
    "df2.head()"
   ]
  },
  {
   "cell_type": "code",
   "execution_count": 10,
   "id": "d067ae94",
   "metadata": {},
   "outputs": [
    {
     "data": {
      "text/plain": [
       "0.9611057129009355"
      ]
     },
     "execution_count": 10,
     "metadata": {},
     "output_type": "execute_result"
    }
   ],
   "source": [
    "roc_auc_score(df2['y'], df2['logits'])"
   ]
  },
  {
   "cell_type": "code",
   "execution_count": 11,
   "id": "4b7b902c",
   "metadata": {},
   "outputs": [
    {
     "data": {
      "text/plain": [
       "set()"
      ]
     },
     "execution_count": 11,
     "metadata": {},
     "output_type": "execute_result"
    }
   ],
   "source": [
    "pairs = set(zip(df['protein_idx'], df['reaction_idx']))\n",
    "pairs2 = set(zip(df2['protein_idx'], df2['reaction_idx']))\n",
    "pairs ^ pairs2"
   ]
  },
  {
   "cell_type": "code",
   "execution_count": 12,
   "id": "6709d8f2",
   "metadata": {},
   "outputs": [
    {
     "data": {
      "text/plain": [
       "set()"
      ]
     },
     "execution_count": 12,
     "metadata": {},
     "output_type": "execute_result"
    }
   ],
   "source": [
    "pairs = set(zip(df['pid'], df['rid']))\n",
    "pairs2 = set(zip(df2['pid'], df2['rid']))\n",
    "pairs ^ pairs2"
   ]
  },
  {
   "cell_type": "code",
   "execution_count": 28,
   "id": "8d8b9849",
   "metadata": {},
   "outputs": [
    {
     "data": {
      "text/html": [
       "<div>\n",
       "<style scoped>\n",
       "    .dataframe tbody tr th:only-of-type {\n",
       "        vertical-align: middle;\n",
       "    }\n",
       "\n",
       "    .dataframe tbody tr th {\n",
       "        vertical-align: top;\n",
       "    }\n",
       "\n",
       "    .dataframe thead th {\n",
       "        text-align: right;\n",
       "    }\n",
       "</style>\n",
       "<table border=\"1\" class=\"dataframe\">\n",
       "  <thead>\n",
       "    <tr style=\"text-align: right;\">\n",
       "      <th></th>\n",
       "      <th>protein_idx</th>\n",
       "      <th>reaction_idx</th>\n",
       "      <th>pid</th>\n",
       "      <th>rid</th>\n",
       "      <th>y</th>\n",
       "      <th>logits</th>\n",
       "    </tr>\n",
       "  </thead>\n",
       "  <tbody>\n",
       "    <tr>\n",
       "      <th>0</th>\n",
       "      <td>222</td>\n",
       "      <td>187</td>\n",
       "      <td>Q9KJ20</td>\n",
       "      <td>7694</td>\n",
       "      <td>1</td>\n",
       "      <td>0.999964</td>\n",
       "    </tr>\n",
       "    <tr>\n",
       "      <th>1</th>\n",
       "      <td>223</td>\n",
       "      <td>187</td>\n",
       "      <td>Q83WC3</td>\n",
       "      <td>7694</td>\n",
       "      <td>1</td>\n",
       "      <td>0.999654</td>\n",
       "    </tr>\n",
       "    <tr>\n",
       "      <th>2</th>\n",
       "      <td>224</td>\n",
       "      <td>187</td>\n",
       "      <td>Q9KJ21</td>\n",
       "      <td>7694</td>\n",
       "      <td>1</td>\n",
       "      <td>0.998847</td>\n",
       "    </tr>\n",
       "    <tr>\n",
       "      <th>3</th>\n",
       "      <td>13363</td>\n",
       "      <td>187</td>\n",
       "      <td>Q9KJ22</td>\n",
       "      <td>7694</td>\n",
       "      <td>1</td>\n",
       "      <td>0.999877</td>\n",
       "    </tr>\n",
       "    <tr>\n",
       "      <th>4</th>\n",
       "      <td>13364</td>\n",
       "      <td>187</td>\n",
       "      <td>Q7U4Z8</td>\n",
       "      <td>7694</td>\n",
       "      <td>1</td>\n",
       "      <td>0.999670</td>\n",
       "    </tr>\n",
       "  </tbody>\n",
       "</table>\n",
       "</div>"
      ],
      "text/plain": [
       "   protein_idx  reaction_idx     pid   rid  y    logits\n",
       "0          222           187  Q9KJ20  7694  1  0.999964\n",
       "1          223           187  Q83WC3  7694  1  0.999654\n",
       "2          224           187  Q9KJ21  7694  1  0.998847\n",
       "3        13363           187  Q9KJ22  7694  1  0.999877\n",
       "4        13364           187  Q7U4Z8  7694  1  0.999670"
      ]
     },
     "execution_count": 28,
     "metadata": {},
     "output_type": "execute_result"
    }
   ],
   "source": [
    "fni = '/projects/p30041/spn1560/hiec/results/predictions/95963b479bb9434ba0c4fb43a05dc7a4/target_output.parquet'\n",
    "dfi = pd.read_parquet(fni)\n",
    "dfi.head()"
   ]
  },
  {
   "cell_type": "code",
   "execution_count": 30,
   "id": "877a2710",
   "metadata": {},
   "outputs": [
    {
     "data": {
      "text/plain": [
       "0.9548395691667799"
      ]
     },
     "execution_count": 30,
     "metadata": {},
     "output_type": "execute_result"
    }
   ],
   "source": [
    "roc_auc_score(dfi['y'], dfi['logits'])"
   ]
  },
  {
   "cell_type": "code",
   "execution_count": 13,
   "id": "3cf01d29",
   "metadata": {},
   "outputs": [
    {
     "data": {
      "text/html": [
       "<div>\n",
       "<style scoped>\n",
       "    .dataframe tbody tr th:only-of-type {\n",
       "        vertical-align: middle;\n",
       "    }\n",
       "\n",
       "    .dataframe tbody tr th {\n",
       "        vertical-align: top;\n",
       "    }\n",
       "\n",
       "    .dataframe thead th {\n",
       "        text-align: right;\n",
       "    }\n",
       "</style>\n",
       "<table border=\"1\" class=\"dataframe\">\n",
       "  <thead>\n",
       "    <tr style=\"text-align: right;\">\n",
       "      <th></th>\n",
       "      <th>protein_idx</th>\n",
       "      <th>reaction_idx</th>\n",
       "      <th>pid</th>\n",
       "      <th>rid</th>\n",
       "      <th>y</th>\n",
       "      <th>logits</th>\n",
       "    </tr>\n",
       "  </thead>\n",
       "  <tbody>\n",
       "    <tr>\n",
       "      <th>0</th>\n",
       "      <td>16113</td>\n",
       "      <td>5226</td>\n",
       "      <td>Q09KQ6</td>\n",
       "      <td>16449</td>\n",
       "      <td>1</td>\n",
       "      <td>9.986486e-01</td>\n",
       "    </tr>\n",
       "    <tr>\n",
       "      <th>1</th>\n",
       "      <td>21408</td>\n",
       "      <td>5226</td>\n",
       "      <td>Q9CZU6</td>\n",
       "      <td>16449</td>\n",
       "      <td>0</td>\n",
       "      <td>1.045536e-04</td>\n",
       "    </tr>\n",
       "    <tr>\n",
       "      <th>2</th>\n",
       "      <td>7098</td>\n",
       "      <td>5226</td>\n",
       "      <td>Q5XI78</td>\n",
       "      <td>16449</td>\n",
       "      <td>0</td>\n",
       "      <td>1.836148e-07</td>\n",
       "    </tr>\n",
       "    <tr>\n",
       "      <th>3</th>\n",
       "      <td>11061</td>\n",
       "      <td>5226</td>\n",
       "      <td>Q8RXV3</td>\n",
       "      <td>16449</td>\n",
       "      <td>0</td>\n",
       "      <td>1.734039e-11</td>\n",
       "    </tr>\n",
       "    <tr>\n",
       "      <th>4</th>\n",
       "      <td>24151</td>\n",
       "      <td>5226</td>\n",
       "      <td>O30418</td>\n",
       "      <td>16449</td>\n",
       "      <td>0</td>\n",
       "      <td>9.811359e-01</td>\n",
       "    </tr>\n",
       "  </tbody>\n",
       "</table>\n",
       "</div>"
      ],
      "text/plain": [
       "   protein_idx  reaction_idx     pid    rid  y        logits\n",
       "0        16113          5226  Q09KQ6  16449  1  9.986486e-01\n",
       "1        21408          5226  Q9CZU6  16449  0  1.045536e-04\n",
       "2         7098          5226  Q5XI78  16449  0  1.836148e-07\n",
       "3        11061          5226  Q8RXV3  16449  0  1.734039e-11\n",
       "4        24151          5226  O30418  16449  0  9.811359e-01"
      ]
     },
     "execution_count": 13,
     "metadata": {},
     "output_type": "execute_result"
    }
   ],
   "source": [
    "fnbn = '/projects/p30041/spn1560/hiec/results/predictions/clip_torch_bn/sprhea_v3_folded_pt_ns_rcmcs_outer_fold/target_output.parquet'\n",
    "dfbn = pd.read_parquet(fnbn)\n",
    "dfbn.head()"
   ]
  },
  {
   "cell_type": "code",
   "execution_count": 14,
   "id": "3078f23c",
   "metadata": {},
   "outputs": [
    {
     "data": {
      "text/plain": [
       "0.9147337122629683"
      ]
     },
     "execution_count": 14,
     "metadata": {},
     "output_type": "execute_result"
    }
   ],
   "source": [
    "roc_auc_score(dfbn['y'], dfbn['logits'])"
   ]
  },
  {
   "cell_type": "code",
   "execution_count": 31,
   "id": "0d7a9542",
   "metadata": {},
   "outputs": [
    {
     "data": {
      "text/html": [
       "<div>\n",
       "<style scoped>\n",
       "    .dataframe tbody tr th:only-of-type {\n",
       "        vertical-align: middle;\n",
       "    }\n",
       "\n",
       "    .dataframe tbody tr th {\n",
       "        vertical-align: top;\n",
       "    }\n",
       "\n",
       "    .dataframe thead th {\n",
       "        text-align: right;\n",
       "    }\n",
       "</style>\n",
       "<table border=\"1\" class=\"dataframe\">\n",
       "  <thead>\n",
       "    <tr style=\"text-align: right;\">\n",
       "      <th></th>\n",
       "      <th>protein_idx</th>\n",
       "      <th>reaction_idx</th>\n",
       "      <th>pid</th>\n",
       "      <th>rid</th>\n",
       "      <th>y</th>\n",
       "      <th>logits</th>\n",
       "    </tr>\n",
       "  </thead>\n",
       "  <tbody>\n",
       "    <tr>\n",
       "      <th>0</th>\n",
       "      <td>222</td>\n",
       "      <td>187</td>\n",
       "      <td>Q9KJ20</td>\n",
       "      <td>7694</td>\n",
       "      <td>1</td>\n",
       "      <td>0.707570</td>\n",
       "    </tr>\n",
       "    <tr>\n",
       "      <th>1</th>\n",
       "      <td>223</td>\n",
       "      <td>187</td>\n",
       "      <td>Q83WC3</td>\n",
       "      <td>7694</td>\n",
       "      <td>1</td>\n",
       "      <td>0.698980</td>\n",
       "    </tr>\n",
       "    <tr>\n",
       "      <th>2</th>\n",
       "      <td>224</td>\n",
       "      <td>187</td>\n",
       "      <td>Q9KJ21</td>\n",
       "      <td>7694</td>\n",
       "      <td>1</td>\n",
       "      <td>0.700994</td>\n",
       "    </tr>\n",
       "    <tr>\n",
       "      <th>3</th>\n",
       "      <td>13363</td>\n",
       "      <td>187</td>\n",
       "      <td>Q9KJ22</td>\n",
       "      <td>7694</td>\n",
       "      <td>1</td>\n",
       "      <td>0.649789</td>\n",
       "    </tr>\n",
       "    <tr>\n",
       "      <th>4</th>\n",
       "      <td>13364</td>\n",
       "      <td>187</td>\n",
       "      <td>Q7U4Z8</td>\n",
       "      <td>7694</td>\n",
       "      <td>1</td>\n",
       "      <td>0.624836</td>\n",
       "    </tr>\n",
       "  </tbody>\n",
       "</table>\n",
       "</div>"
      ],
      "text/plain": [
       "   protein_idx  reaction_idx     pid   rid  y    logits\n",
       "0          222           187  Q9KJ20  7694  1  0.707570\n",
       "1          223           187  Q83WC3  7694  1  0.698980\n",
       "2          224           187  Q9KJ21  7694  1  0.700994\n",
       "3        13363           187  Q9KJ22  7694  1  0.649789\n",
       "4        13364           187  Q7U4Z8  7694  1  0.624836"
      ]
     },
     "execution_count": 31,
     "metadata": {},
     "output_type": "execute_result"
    }
   ],
   "source": [
    "fni2 = '/projects/p30041/spn1560/hiec/results/predictions/clipzyme/sprhea_v3_folded_pt_ns_rcmcs_inner_fold_1_of_3/target_output.parquet'\n",
    "dfi2 = pd.read_parquet(fni2)\n",
    "dfi2.head()"
   ]
  },
  {
   "cell_type": "code",
   "execution_count": 32,
   "id": "335f5716",
   "metadata": {},
   "outputs": [
    {
     "data": {
      "text/plain": [
       "0.9051656582995725"
      ]
     },
     "execution_count": 32,
     "metadata": {},
     "output_type": "execute_result"
    }
   ],
   "source": [
    "roc_auc_score(dfi2['y'], dfi2['logits'])"
   ]
  },
  {
   "cell_type": "code",
   "execution_count": 15,
   "id": "ae01b99b",
   "metadata": {},
   "outputs": [
    {
     "data": {
      "text/plain": [
       "<Axes: xlabel='epoch'>"
      ]
     },
     "execution_count": 15,
     "metadata": {},
     "output_type": "execute_result"
    },
    {
     "data": {
      "image/png": "[encoded data removed]",
      "text/plain": [
       "<Figure size 640x480 with 1 Axes>"
      ]
     },
     "metadata": {},
     "output_type": "display_data"
    }
   ],
   "source": [
    "fn = '/projects/p30041/spn1560/hiec/results/runs/clip_torch_bn/sprhea_v3_folded_pt_ns_rcmcs_outer_fold/metrics.csv'\n",
    "df = pd.read_csv(fn)\n",
    "df.plot(x='epoch', y=['train_loss', 'val_loss'], marker='o')"
   ]
  }
 ],
 "metadata": {
  "kernelspec": {
   "display_name": "Python 3",
   "language": "python",
   "name": "python3"
  },
  "language_info": {
   "codemirror_mode": {
    "name": "ipython",
    "version": 3
   },
   "file_extension": ".py",
   "mimetype": "text/x-python",
   "name": "python",
   "nbconvert_exporter": "python",
   "pygments_lexer": "ipython3",
   "version": "3.11.5"
  }
 },
 "nbformat": 4,
 "nbformat_minor": 5
}
