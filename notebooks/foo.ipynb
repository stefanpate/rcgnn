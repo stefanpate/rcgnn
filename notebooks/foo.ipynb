{
 "cells": [
  {
   "cell_type": "code",
   "execution_count": 26,
   "id": "47acafee",
   "metadata": {},
   "outputs": [],
   "source": [
    "import json\n",
    "import pandas as pd\n",
    "from rdkit import Chem\n",
    "from rdkit.Chem import AllChem\n",
    "from src.utils import construct_sparse_adj_mat\n",
    "from pathlib import Path"
   ]
  },
  {
   "cell_type": "code",
   "execution_count": 4,
   "metadata": {},
   "outputs": [],
   "source": [
    "fn = \"/home/stef/quest_data/hiec/scratch/sprhea_v3_folded_pt_ns/rcmcs/3fold/train_val_0.parquet\"\n",
    "staged_on_quest = pd.read_parquet(fn)"
   ]
  },
  {
   "cell_type": "code",
   "execution_count": 29,
   "id": "f7106911",
   "metadata": {},
   "outputs": [],
   "source": [
    "issues = {}\n",
    "for i, row in staged_on_quest.iterrows():\n",
    "    sma = row['smarts']\n",
    "    lhs, rhs = [side.split('.') for side in sma.split('>>')]\n",
    "    lhs_mols = [Chem.MolFromSmiles(s) for s in lhs]\n",
    "    rhs_mols = [Chem.MolFromSmiles(s) for s in rhs]\n",
    "    l_rc, r_rc = [list(elt) for elt in row['reaction_center']]\n",
    "    for m, r in zip(lhs_mols + rhs_mols, l_rc + r_rc):\n",
    "        if r.max() > m.GetNumAtoms():\n",
    "            issues[row['reaction_idx']] = (sma, [elt.max() for elt in l_rc + r_rc], [elt.GetNumAtoms() for elt in lhs_mols + rhs_mols])"
   ]
  },
  {
   "cell_type": "code",
   "execution_count": 30,
   "id": "5efa9ee5",
   "metadata": {},
   "outputs": [
    {
     "data": {
      "text/plain": [
       "{4236: ('[OH2:10].[O:1]([P:2](=[O:3])([OH:4])[O:5][P:6](=[O:7])([OH:8])[OH:9])[P:11]([O:12][CH2:15][CH:16]1[CH:17]([OH:20])[CH2:19][CH:21]([n:22]2[cH:23][n:25][c:27]3[c:24]2[n:26][c:28]([NH2:31])[n:30][c:29]3[O:32][CH3:33])[O:18]1)(=[O:13])[OH:14]>>[OH:1][P:2](=[O:3])([OH:4])[O:5][P:6](=[O:7])([OH:8])[OH:9].[OH:10][P:11]([O:12][CH2:15][CH:16]1[CH:17]([OH:20])[CH2:19][CH:21]([n:22]2[cH:23][n:25][c:27]3[c:24]2[n:26][c:28]([NH2:31])[n:30][c:29]3[O:32][CH3:33])[O:18]1)(=[O:13])[OH:14]',\n",
       "  [np.int64(0), np.int64(22), np.int64(21), np.int64(2)],\n",
       "  [1, 32, 9, 24]),\n",
       " 1399: ('[CH2:49]1[N:50]([CH3:75])[c:62]2[c:56]([cH:61][cH:64][c:67]3[c:65]2[cH:68][c:70]2[c:71]([cH:69]3)[O:73][CH2:74][O:72]2)-[c:53]2[c:51]1[c:52]1[c:54]([cH:58][c:57]2[O:63][CH3:66])[O:59][CH2:60][O:55]1.[c:1]1([C:7]([NH2:8])=[O:9])[cH:2][n+:3]([CH:10]2[O:11][CH:13]([CH2:16][O:18][P:19](=[O:20])([OH:21])[O:22][P:23](=[O:24])([OH:25])[O:26][CH2:27][CH:28]3[O:29][CH:31]([n:34]4[cH:36][n:39][c:41]5[c:37]4[n:40][cH:45][n:47][c:46]5[NH2:48])[CH:32]([O:35][P:38](=[O:42])([OH:43])[OH:44])[CH:30]3[OH:33])[CH:14]([OH:17])[CH:12]2[OH:15])[cH:4][cH:5][cH:6]1>>[C:1]1([C:7]([NH2:8])=[O:9])=[CH:2][N:3]([CH:10]2[O:11][CH:13]([CH2:16][O:18][P:19](=[O:20])([OH:21])[O:22][P:23](=[O:24])([OH:25])[O:26][CH2:27][CH:28]3[O:29][CH:31]([n:34]4[cH:36][n:39][c:41]5[c:37]4[n:40][cH:45][n:47][c:46]5[NH2:48])[CH:32]([O:35][P:38](=[O:42])([OH:43])[OH:44])[CH:30]3[OH:33])[CH:14]([OH:17])[CH:12]2[OH:15])[CH:4]=[CH:5][CH2:6]1.[CH:49]1=[N+:50]([CH3:75])[c:62]2[c:56]([cH:61][cH:64][c:67]3[c:65]2[cH:68][c:70]2[c:71]([cH:69]3)[O:73][CH2:74][O:72]2)-[c:53]2[c:51]1[c:52]1[c:54]([cH:58][c:57]2[O:63][CH3:66])[O:59][CH2:60][O:55]1',\n",
       "  [np.int64(20), np.int64(47), np.int64(20), np.int64(47)],\n",
       "  [27, 48, 48, 27]),\n",
       " 4876: ('[C:1]([CH2:3][CH2:5][CH:6]([NH2:7])[C:8](=[O:9])[OH:10])(=[O:4])[OH:25].[NH2:2][CH2:11][CH2:12][c:13]1[cH:14][cH:16][c:18]([OH:19])[cH:17][cH:15]1.[O:20]([P:21](=[O:22])([OH:23])[OH:24])[P:26]([O:27][P:30]([O:31][CH2:34][CH:35]1[O:36][CH:38]([n:41]2[cH:43][n:45][c:47]3[c:44]2[n:46][cH:48][n:50][c:49]3[NH2:51])[CH:40]([OH:42])[CH:37]1[OH:39])(=[O:32])[OH:33])(=[O:28])[OH:29]>>[C:1]([NH:2][CH2:11][CH2:12][c:13]1[cH:14][cH:16][c:18]([OH:19])[cH:17][cH:15]1)([CH2:3][CH2:5][CH:6]([NH2:7])[C:8](=[O:9])[OH:10])=[O:4].[OH:20][P:21](=[O:22])([OH:23])[OH:24].[OH:25][P:26]([O:27][P:30]([O:31][CH2:34][CH:35]1[O:36][CH:38]([n:41]2[cH:43][n:45][c:47]3[c:44]2[n:46][cH:48][n:50][c:49]3[NH2:51])[CH:40]([OH:42])[CH:37]1[OH:39])(=[O:32])[OH:33])(=[O:28])[OH:29]',\n",
       "  [np.int64(6),\n",
       "   np.int64(0),\n",
       "   np.int64(22),\n",
       "   np.int64(6),\n",
       "   np.int64(21),\n",
       "   np.int64(2)],\n",
       "  [10, 10, 31, 19, 5, 27]),\n",
       " 5303: ('[CH2:1]1[CH:2]([OH:54])[N:9]([CH:10]2[O:11][CH:13]([CH2:16][O:18][P:19](=[O:20])([OH:21])[O:22][P:23](=[O:24])([OH:25])[O:26][CH2:27][CH:28]3[O:29][CH:31]([n:34]4[cH:36][n:39][c:41]5[c:37]4[n:40][cH:45][n:47][c:46]5[NH2:48])[CH:32]([O:35][P:38](=[O:42])([OH:43])[OH:44])[CH:30]3[OH:33])[CH:14]([OH:17])[CH:12]2[OH:15])[CH:6]=[C:4]([C:5]([NH2:7])=[O:8])[CH2:3]1.[O:49]([P:50](=[O:51])([OH:52])[OH:53])[P:55]([O:56][CH2:59][CH:60]1[O:61][CH:63]([n:66]2[cH:68][n:70][c:72]3[c:69]2[n:71][cH:73][n:75][c:74]3[NH2:76])[CH:65]([OH:67])[CH:62]1[OH:64])(=[O:57])[OH:58]>>[CH:1]1=[CH:2][N:9]([CH:10]2[O:11][CH:13]([CH2:16][O:18][P:19](=[O:20])([OH:21])[O:22][P:23](=[O:24])([OH:25])[O:26][CH2:27][CH:28]3[O:29][CH:31]([n:34]4[cH:36][n:39][c:41]5[c:37]4[n:40][cH:45][n:47][c:46]5[NH2:48])[CH:32]([O:35][P:38](=[O:42])([OH:43])[OH:44])[CH:30]3[OH:33])[CH:14]([OH:17])[CH:12]2[OH:15])[CH:6]=[C:4]([C:5]([NH2:7])=[O:8])[CH2:3]1.[OH:49][P:50](=[O:51])([OH:52])[OH:53].[OH:54][P:55]([O:56][CH2:59][CH:60]1[O:61][CH:63]([n:66]2[cH:68][n:70][c:72]3[c:69]2[n:71][cH:73][n:75][c:74]3[NH2:76])[CH:65]([OH:67])[CH:62]1[OH:64])(=[O:57])[OH:58]',\n",
       "  [np.int64(47), np.int64(18), np.int64(46), np.int64(17), np.int64(2)],\n",
       "  [49, 27, 48, 5, 23]),\n",
       " 440: ('[CH:1]([CH2:3][O:5][CH2:7][CH2:9][CH2:13][CH2:15][CH2:17][CH2:19][CH2:23][CH2:24][CH2:25][CH2:26][CH2:27][CH2:28][CH2:29][CH2:30][CH2:31][CH3:32])([CH2:4][O:6][P:8](=[O:10])([OH:11])[O:12][CH2:14][CH2:16][N+:18]([CH3:20])([CH3:21])[CH3:22])[O:33][C:34](=[O:35])[CH2:36][CH2:37][CH3:38].[OH2:2]>>[CH:1]([OH:2])([CH2:3][O:5][CH2:7][CH2:9][CH2:13][CH2:15][CH2:17][CH2:19][CH2:23][CH2:24][CH2:25][CH2:26][CH2:27][CH2:28][CH2:29][CH2:30][CH2:31][CH3:32])[CH2:4][O:6][P:8](=[O:10])([OH:11])[O:12][CH2:14][CH2:16][N+:18]([CH3:20])([CH3:21])[CH3:22].[OH:33][C:34](=[O:35])[CH2:36][CH2:37][CH3:38]',\n",
       "  [np.int64(31), np.int64(0), np.int64(5), np.int64(19)],\n",
       "  [37, 1, 32, 6]),\n",
       " 4975: ('[OH2:10].[O:1]([P:2](=[O:3])([OH:4])[O:5][P:6](=[O:7])([OH:8])[OH:9])[P:11]([O:12][CH2:15][CH:16]1[O:17][CH:19]([c:22]2[cH:24][nH:26][c:29](=[O:30])[nH:28][c:25]2=[O:27])[CH:21]([OH:23])[CH:18]1[OH:20])(=[O:13])[OH:14]>>[OH:1][P:2](=[O:3])([OH:4])[O:5][P:6](=[O:7])([OH:8])[OH:9].[OH:10][P:11]([O:12][CH2:15][CH:16]1[O:17][CH:19]([c:22]2[cH:24][nH:26][c:29](=[O:30])[nH:28][c:25]2=[O:27])[CH:21]([OH:23])[CH:18]1[OH:20])(=[O:13])[OH:14]',\n",
       "  [np.int64(0), np.int64(13), np.int64(12), np.int64(2)],\n",
       "  [1, 29, 9, 21]),\n",
       " 3496: ('[CH:1]([CH2:3][O:5][C:7]([CH2:9][CH2:14][CH2:16][CH2:18][CH2:20][CH2:24][CH2:25][CH2:26][CH2:27][CH2:28][CH2:29][CH2:30][CH2:31][CH2:32][CH3:33])=[O:10])([CH2:4][O:6][P:8](=[O:11])([OH:12])[O:13][CH2:15][CH2:17][N+:19]([CH3:21])([CH3:22])[CH3:23])[O:34][C:35](=[O:36])[CH2:37][CH2:38][CH2:39][CH3:40].[OH2:2]>>[CH:1]([OH:2])([CH2:3][O:5][C:7]([CH2:9][CH2:14][CH2:16][CH2:18][CH2:20][CH2:24][CH2:25][CH2:26][CH2:27][CH2:28][CH2:29][CH2:30][CH2:31][CH2:32][CH3:33])=[O:10])[CH2:4][O:6][P:8](=[O:11])([OH:12])[O:13][CH2:15][CH2:17][N+:19]([CH3:21])([CH3:22])[CH3:23].[OH:34][C:35](=[O:36])[CH2:37][CH2:38][CH2:39][CH3:40]',\n",
       "  [np.int64(32), np.int64(0), np.int64(6), np.int64(20)],\n",
       "  [39, 1, 33, 7]),\n",
       " 4977: ('[OH2:10].[O:1]([P:2](=[O:3])([OH:4])[O:5][P:6](=[O:7])([OH:8])[OH:9])[P:11]([O:12][CH2:15][CH:16]1[O:17][CH:19]([n:22]2[cH:24][c:26]([CH3:29])[c:30]([NH2:31])[n:28][c:25]2=[O:27])[CH:21]([OH:23])[CH:18]1[OH:20])(=[O:13])[OH:14]>>[OH:1][P:2](=[O:3])([OH:4])[O:5][P:6](=[O:7])([OH:8])[OH:9].[OH:10][P:11]([O:12][CH2:15][CH:16]1[O:17][CH:19]([n:22]2[cH:24][c:26]([CH3:29])[c:30]([NH2:31])[n:28][c:25]2=[O:27])[CH:21]([OH:23])[CH:18]1[OH:20])(=[O:13])[OH:14]',\n",
       "  [np.int64(0), np.int64(12), np.int64(11), np.int64(2)],\n",
       "  [1, 30, 9, 22]),\n",
       " 3774: ('[C:1]([CH:3]([NH:5][C:7]([CH3:9])=[O:10])[CH2:6][C:8](=[O:11])[OH:12])(=[O:4])[OH:27].[NH2:2][CH:13]([CH2:14][CH2:16][C:19](=[O:20])[OH:21])[C:15](=[O:17])[OH:18].[O:22]([P:23](=[O:24])([OH:25])[OH:26])[P:28]([O:29][P:32]([O:33][CH2:36][CH:37]1[O:38][CH:40]([n:43]2[cH:45][n:47][c:49]3[c:46]2[n:48][cH:50][n:52][c:51]3[NH2:53])[CH:42]([OH:44])[CH:39]1[OH:41])(=[O:34])[OH:35])(=[O:30])[OH:31]>>[C:1]([NH:2][CH:13]([CH2:14][CH2:16][C:19](=[O:20])[OH:21])[C:15](=[O:17])[OH:18])([CH:3]([NH:5][C:7]([CH3:9])=[O:10])[CH2:6][C:8](=[O:11])[OH:12])=[O:4].[OH:22][P:23](=[O:24])([OH:25])[OH:26].[OH:27][P:28]([O:29][P:32]([O:33][CH2:36][CH:37]1[O:38][CH:40]([n:43]2[cH:45][n:47][c:49]3[c:46]2[n:48][cH:50][n:52][c:51]3[NH2:53])[CH:42]([OH:44])[CH:39]1[OH:41])(=[O:34])[OH:35])(=[O:30])[OH:31]',\n",
       "  [np.int64(11),\n",
       "   np.int64(0),\n",
       "   np.int64(22),\n",
       "   np.int64(11),\n",
       "   np.int64(21),\n",
       "   np.int64(2)],\n",
       "  [12, 10, 31, 21, 5, 27]),\n",
       " 4400: ('[OH2:36].[O:1]([P:2](=[O:3])([OH:4])[O:5][P:6](=[O:7])([OH:8])[O:9][P:10](=[O:11])([OH:12])[O:13][P:14](=[O:15])([OH:16])[O:17][CH2:18][CH:19]1[O:20][CH:22]([n:25]2[cH:27][n:29][c:31]3[c:28]2[n:30][cH:32][n:34][c:33]3[NH2:35])[CH:23]([OH:26])[CH:21]1[OH:24])[P:37]([O:38][P:41]([O:42][CH2:45][CH:46]1[O:47][CH:49]([n:52]2[cH:54][n:56][c:58]3[c:55]2[n:57][cH:59][n:61][c:60]3[NH2:62])[CH:51]([OH:53])[CH:48]1[OH:50])(=[O:43])[OH:44])(=[O:39])[OH:40]>>[OH:1][P:2](=[O:3])([OH:4])[O:5][P:6](=[O:7])([OH:8])[O:9][P:10](=[O:11])([OH:12])[O:13][P:14](=[O:15])([OH:16])[O:17][CH2:18][CH:19]1[O:20][CH:22]([n:25]2[cH:27][n:29][c:31]3[c:28]2[n:30][cH:32][n:34][c:33]3[NH2:35])[CH:23]([OH:26])[CH:21]1[OH:24].[OH:36][P:37]([O:38][P:41]([O:42][CH2:45][CH:46]1[O:47][CH:49]([n:52]2[cH:54][n:56][c:58]3[c:55]2[n:57][cH:59][n:61][c:60]3[NH2:62])[CH:51]([OH:53])[CH:48]1[OH:50])(=[O:43])[OH:44])(=[O:39])[OH:40]',\n",
       "  [np.int64(0), np.int64(22), np.int64(21), np.int64(29)],\n",
       "  [1, 61, 35, 27]),\n",
       " 2007: ('[CH:1]([CH2:3][O:5][C:7]([CH2:9][CH2:14][CH2:16][CH2:18][CH2:20][CH2:21][CH2:22][CH2:23][CH2:24][CH2:25][CH2:26][CH2:27][CH2:28][CH2:29][CH3:30])=[O:10])([CH2:4][O:6][P:8](=[O:11])([OH:12])[O:13][CH2:15][CH2:17][NH2:19])[O:31][C:32](=[O:33])[CH2:34][CH2:35][CH2:36][CH2:37][CH2:38][CH2:39][CH2:40][CH2:41][CH2:42][CH2:43][CH2:44][CH2:45][CH2:46][CH2:47][CH3:48].[OH2:2]>>[CH:1]([OH:2])([CH2:3][O:5][C:7]([CH2:9][CH2:14][CH2:16][CH2:18][CH2:20][CH2:21][CH2:22][CH2:23][CH2:24][CH2:25][CH2:26][CH2:27][CH2:28][CH2:29][CH3:30])=[O:10])[CH2:4][O:6][P:8](=[O:11])([OH:12])[O:13][CH2:15][CH2:17][NH2:19].[OH:31][C:32](=[O:33])[CH2:34][CH2:35][CH2:36][CH2:37][CH2:38][CH2:39][CH2:40][CH2:41][CH2:42][CH2:43][CH2:44][CH2:45][CH2:46][CH2:47][CH3:48]',\n",
       "  [np.int64(29), np.int64(0), np.int64(17), np.int64(20)],\n",
       "  [47, 1, 30, 18]),\n",
       " 1397: ('[CH2:45]1[N:46]([CH3:71])[c:58]2[c:52]([cH:57][cH:60][c:63]3[c:61]2[cH:64][c:66]2[c:67]([cH:65]3)[O:69][CH2:70][O:68]2)-[c:49]2[c:47]1[c:48]1[c:50]([cH:54][c:53]2[O:59][CH3:62])[O:55][CH2:56][O:51]1.[c:1]1([C:7]([NH2:8])=[O:9])[cH:2][n+:3]([CH:10]2[O:11][CH:13]([CH2:16][O:18][P:19](=[O:20])([OH:21])[O:22][P:23](=[O:24])([OH:25])[O:26][CH2:27][CH:28]3[O:29][CH:31]([n:34]4[cH:36][n:38][c:40]5[c:37]4[n:39][cH:41][n:43][c:42]5[NH2:44])[CH:32]([OH:35])[CH:30]3[OH:33])[CH:14]([OH:17])[CH:12]2[OH:15])[cH:4][cH:5][cH:6]1>>[C:1]1([C:7]([NH2:8])=[O:9])=[CH:2][N:3]([CH:10]2[O:11][CH:13]([CH2:16][O:18][P:19](=[O:20])([OH:21])[O:22][P:23](=[O:24])([OH:25])[O:26][CH2:27][CH:28]3[O:29][CH:31]([n:34]4[cH:36][n:38][c:40]5[c:37]4[n:39][cH:41][n:43][c:42]5[NH2:44])[CH:32]([OH:35])[CH:30]3[OH:33])[CH:14]([OH:17])[CH:12]2[OH:15])[CH:4]=[CH:5][CH2:6]1.[CH:45]1=[N+:46]([CH3:71])[c:58]2[c:52]([cH:57][cH:60][c:63]3[c:61]2[cH:64][c:66]2[c:67]([cH:65]3)[O:69][CH2:70][O:68]2)-[c:49]2[c:47]1[c:48]1[c:50]([cH:54][c:53]2[O:59][CH3:62])[O:55][CH2:56][O:51]1',\n",
       "  [np.int64(20), np.int64(43), np.int64(20), np.int64(43)],\n",
       "  [27, 44, 44, 27]),\n",
       " 5822: ('[CH3:1][O:3][C:4]([CH3:5])=[O:6].[OH2:2]>>[CH3:1][OH:2].[OH:3][C:4]([CH3:5])=[O:6]',\n",
       "  [np.int64(1), np.int64(0), np.int64(3), np.int64(1)],\n",
       "  [5, 1, 2, 4]),\n",
       " 512: ('[C:1]([CH2:3][CH2:5][CH:6]([NH:7][C:9]([CH:12]([NH:14][C:16]([CH:17]([O:19][CH:21]1[CH:22]([OH:25])[CH:24]([CH2:29][OH:32])[O:28][CH:27]([O:31][P:35](=[O:36])([OH:37])[O:38][P:39](=[O:40])([OH:41])[O:42][CH2:43][CH:44]2[O:45][CH:47]([n:50]3[cH:52][cH:54][c:57](=[O:58])[nH:55][c:53]3=[O:56])[CH:48]([OH:51])[CH:46]2[OH:49])[CH:23]1[NH:26][C:30]([CH3:33])=[O:34])[CH3:20])=[O:18])[CH3:15])=[O:13])[C:8](=[O:10])[OH:11])(=[O:4])[OH:73].[NH2:2][CH:59]([CH2:60][CH2:62][CH2:65][CH2:66][NH2:67])[C:61](=[O:63])[OH:64].[O:68]([P:69](=[O:70])([OH:71])[OH:72])[P:74]([O:75][P:78]([O:79][CH2:82][CH:83]1[O:84][CH:86]([n:89]2[cH:91][n:93][c:95]3[c:92]2[n:94][cH:96][n:98][c:97]3[NH2:99])[CH:88]([OH:90])[CH:85]1[OH:87])(=[O:80])[OH:81])(=[O:76])[OH:77]>>[C:1]([NH:2][CH:59]([CH2:60][CH2:62][CH2:65][CH2:66][NH2:67])[C:61](=[O:63])[OH:64])([CH2:3][CH2:5][CH:6]([NH:7][C:9]([CH:12]([NH:14][C:16]([CH:17]([O:19][CH:21]1[CH:22]([OH:25])[CH:24]([CH2:29][OH:32])[O:28][CH:27]([O:31][P:35](=[O:36])([OH:37])[O:38][P:39](=[O:40])([OH:41])[O:42][CH2:43][CH:44]2[O:45][CH:47]([n:50]3[cH:52][cH:54][c:57](=[O:58])[nH:55][c:53]3=[O:56])[CH:48]([OH:51])[CH:46]2[OH:49])[CH:23]1[NH:26][C:30]([CH3:33])=[O:34])[CH3:20])=[O:18])[CH3:15])=[O:13])[C:8](=[O:10])[OH:11])=[O:4].[OH:68][P:69](=[O:70])([OH:71])[OH:72].[OH:73][P:74]([O:75][P:78]([O:79][CH2:82][CH:83]1[O:84][CH:86]([n:89]2[cH:91][n:93][c:95]3[c:92]2[n:94][cH:96][n:98][c:97]3[NH2:99])[CH:88]([OH:90])[CH:85]1[OH:87])(=[O:80])[OH:81])(=[O:76])[OH:77]',\n",
       "  [np.int64(54),\n",
       "   np.int64(6),\n",
       "   np.int64(22),\n",
       "   np.int64(54),\n",
       "   np.int64(21),\n",
       "   np.int64(2)],\n",
       "  [58, 10, 31, 67, 5, 27]),\n",
       " 5044: ('[C:1]([CH2:3][CH2:5][CH:6]([NH:7][C:9]([CH:12]([NH:14][C:16]([CH:17]([O:19][CH:21]1[CH:22]([OH:25])[CH:24]([CH2:29][OH:32])[O:28][CH:27]([O:31][P:35](=[O:36])([OH:37])[O:38][P:39](=[O:40])([OH:41])[O:42][CH2:43][CH:44]2[O:45][CH:47]([n:50]3[cH:52][cH:54][c:57](=[O:58])[nH:55][c:53]3=[O:56])[CH:48]([OH:51])[CH:46]2[OH:49])[CH:23]1[NH:26][C:30]([CH3:33])=[O:34])[CH3:20])=[O:18])[CH3:15])=[O:13])[C:8](=[O:10])[OH:11])(=[O:4])[OH:76].[NH2:2][CH:59]([CH2:60][CH2:62][CH2:65][CH:66]([NH2:67])[C:68](=[O:69])[OH:70])[C:61](=[O:63])[OH:64].[O:71]([P:72](=[O:73])([OH:74])[OH:75])[P:77]([O:78][P:81]([O:82][CH2:85][CH:86]1[O:87][CH:89]([n:92]2[cH:94][n:96][c:98]3[c:95]2[n:97][cH:99][n:101][c:100]3[NH2:102])[CH:91]([OH:93])[CH:88]1[OH:90])(=[O:83])[OH:84])(=[O:79])[OH:80]>>[C:1]([NH:2][CH:59]([CH2:60][CH2:62][CH2:65][CH:66]([NH2:67])[C:68](=[O:69])[OH:70])[C:61](=[O:63])[OH:64])([CH2:3][CH2:5][CH:6]([NH:7][C:9]([CH:12]([NH:14][C:16]([CH:17]([O:19][CH:21]1[CH:22]([OH:25])[CH:24]([CH2:29][OH:32])[O:28][CH:27]([O:31][P:35](=[O:36])([OH:37])[O:38][P:39](=[O:40])([OH:41])[O:42][CH2:43][CH:44]2[O:45][CH:47]([n:50]3[cH:52][cH:54][c:57](=[O:58])[nH:55][c:53]3=[O:56])[CH:48]([OH:51])[CH:46]2[OH:49])[CH:23]1[NH:26][C:30]([CH3:33])=[O:34])[CH3:20])=[O:18])[CH3:15])=[O:13])[C:8](=[O:10])[OH:11])=[O:4].[OH:71][P:72](=[O:73])([OH:74])[OH:75].[OH:76][P:77]([O:78][P:81]([O:82][CH2:85][CH:86]1[O:87][CH:89]([n:92]2[cH:94][n:96][c:98]3[c:95]2[n:97][cH:99][n:101][c:100]3[NH2:102])[CH:91]([OH:93])[CH:88]1[OH:90])(=[O:83])[OH:84])(=[O:79])[OH:80]',\n",
       "  [np.int64(54),\n",
       "   np.int64(0),\n",
       "   np.int64(22),\n",
       "   np.int64(54),\n",
       "   np.int64(21),\n",
       "   np.int64(2)],\n",
       "  [58, 13, 31, 70, 5, 27]),\n",
       " 5156: ('[OH2:24].[O:1]([P:2](=[O:3])([OH:4])[O:5][CH2:6][CH:7]1[O:8][CH:10]([n:13]2[cH:15][n:17][c:19]3[c:16]2[n:18][cH:20][n:22][c:21]3[NH2:23])[CH:11]([OH:14])[CH:9]1[OH:12])[P:25]([O:26][CH2:29][CH:30]1[O:31][CH:33]([*:36])[CH2:35][CH:32]1[O:34][*:37])(=[O:27])[OH:28]>>[OH:1][P:2](=[O:3])([OH:4])[O:5][CH2:6][CH:7]1[O:8][CH:10]([n:13]2[cH:15][n:17][c:19]3[c:16]2[n:18][cH:20][n:22][c:21]3[NH2:23])[CH:11]([OH:14])[CH:9]1[OH:12].[OH:24][P:25]([O:26][CH2:29][CH:30]1[O:31][CH:33]([*:36])[CH2:35][CH:32]1[O:34][*:37])(=[O:27])[OH:28]',\n",
       "  [np.int64(0), np.int64(13), np.int64(12), np.int64(17)],\n",
       "  [1, 36, 23, 14]),\n",
       " 1941: ('[OH2:6].[O:1]([P:2](=[O:3])([OH:4])[OH:5])[P:7]([O:8][CH2:11][CH:12]1[O:13][CH:15]([*:18])[CH:17]([OH:19])[CH:14]1[OH:16])(=[O:9])[OH:10]>>[OH:1][P:2](=[O:3])([OH:4])[OH:5].[OH:6][P:7]([O:8][CH2:11][CH:12]1[O:13][CH:15]([*:18])[CH:17]([OH:19])[CH:14]1[OH:16])(=[O:9])[OH:10]',\n",
       "  [np.int64(0), np.int64(9), np.int64(8), np.int64(2)],\n",
       "  [1, 18, 5, 14]),\n",
       " 3005: ('[OH2:6].[O:1]([P:2](=[O:3])([OH:4])[OH:5])[P:7]([O:8][CH2:11][CH:12]1[O:13][CH:15]([n:18]2[c:20](=[O:23])[nH:22][c:25]3[c:21]2[n:24][c:26]([NH2:28])[nH:29][c:27]3=[O:30])[CH:17]([OH:19])[CH:14]1[OH:16])(=[O:9])[OH:10]>>[OH:1][P:2](=[O:3])([OH:4])[OH:5].[OH:6][P:7]([O:8][CH2:11][CH:12]1[O:13][CH:15]([n:18]2[c:20](=[O:23])[nH:22][c:25]3[c:21]2[n:24][c:26]([NH2:28])[nH:29][c:27]3=[O:30])[CH:17]([OH:19])[CH:14]1[OH:16])(=[O:9])[OH:10]',\n",
       "  [np.int64(0), np.int64(17), np.int64(16), np.int64(2)],\n",
       "  [1, 29, 5, 25]),\n",
       " 3488: ('[OH2:6].[O:1]([P:2](=[O:3])([OH:4])[OH:5])[P:7]([O:8][CH2:11][CH:12]1[CH:13]([OH:16])[CH2:15][CH:17]([n:18]2[cH:19][n:21][c:23]3[c:20]2[nH:22][c:24](=[O:27])[n:26][c:25]3[NH2:28])[O:14]1)(=[O:9])[OH:10]>>[OH:1][P:2](=[O:3])([OH:4])[OH:5].[OH:6][P:7]([O:8][CH2:11][CH:12]1[CH:13]([OH:16])[CH2:15][CH:17]([n:18]2[cH:19][n:21][c:23]3[c:20]2[nH:22][c:24](=[O:27])[n:26][c:25]3[NH2:28])[O:14]1)(=[O:9])[OH:10]',\n",
       "  [np.int64(0), np.int64(21), np.int64(20), np.int64(2)],\n",
       "  [1, 27, 5, 23]),\n",
       " 3511: ('[CH2:1]1[CH:2]([OH:14])[CH2:3][C:4](=[O:5])[c:8]2[c:6]1[cH:7][c:9]([OH:11])[cH:12][c:10]2[OH:13]>>[CH:1]1=[CH:2][CH:3]=[C:4]([OH:5])[c:8]2[c:6]1[cH:7][c:9]([OH:11])[cH:12][c:10]2[OH:13].[OH2:14]',\n",
       "  [np.int64(5), np.int64(0), np.int64(11)],\n",
       "  [14, 13, 1]),\n",
       " 4833: ('[CH:1]([CH:3]=[C:4]([CH:5]=[CH:7][CH:8]=[C:9]([CH3:10])[CH:11]=[O:12])[CH3:6])=[CH:13][CH:15]=[C:16]([CH3:17])[CH:18]=[CH:19][CH:20]=[C:21]([CH3:22])[CH:23]=[CH:24][C:25]1=[C:26]([CH3:28])[CH2:29][CH2:33][CH2:30][C:27]1([CH3:31])[CH3:32].[O:2]=[O:14]>>[CH:1](=[O:2])[CH:3]=[C:4]([CH:5]=[CH:7][CH:8]=[C:9]([CH3:10])[CH:11]=[O:12])[CH3:6].[CH:13](=[O:14])[CH:15]=[C:16]([CH3:17])[CH:18]=[CH:19][CH:20]=[C:21]([CH3:22])[CH:23]=[CH:24][C:25]1=[C:26]([CH3:28])[CH2:29][CH2:33][CH2:30][C:27]1([CH3:31])[CH3:32]',\n",
       "  [np.int64(11), np.int64(1), np.int64(20), np.int64(11)],\n",
       "  [31, 2, 12, 21])}"
      ]
     },
     "execution_count": 30,
     "metadata": {},
     "output_type": "execute_result"
    }
   ],
   "source": [
    "issues"
   ]
  },
  {
   "cell_type": "code",
   "execution_count": 21,
   "id": "c3181c97",
   "metadata": {},
   "outputs": [
    {
     "name": "stdout",
     "output_type": "stream",
     "text": [
      "Constructing v3_folded_pt_ns sparse adjacency matrix\n"
     ]
    }
   ],
   "source": [
    "with open(\"/home/stef/quest_data/hiec/data/sprhea/v3_folded_pt_ns.json\", 'r') as f:\n",
    "    sprhea = json.load(f)\n",
    "\n",
    "adj, idx_sample, idx_feature = construct_sparse_adj_mat(Path(\"/home/stef/quest_data/hiec/data/sprhea/v3_folded_pt_ns.csv\"))"
   ]
  },
  {
   "cell_type": "code",
   "execution_count": 25,
   "id": "da1f5fbc",
   "metadata": {},
   "outputs": [
    {
     "data": {
      "text/plain": [
       "{'smarts': 'CCCCCCCCCCCCCCCCOCC(COP(=O)(O)OCC[N+](C)(C)C)OC(=O)CCC.O>>CCCC(=O)O.CCCCCCCCCCCCCCCCOCC(O)COP(=O)(O)OCC[N+](C)(C)C',\n",
       " 'min_rules': ['rule0007', 'rule0006'],\n",
       " 'rcs': [[[18, 31], [0]], [[3, 5], [19]]],\n",
       " 'enzymes': [{'uniprot_id': 'Q8VDG7',\n",
       "   'sequence': 'MGAGQSVCFPPISGPHHIGCTDVMEGHSLEGSLFRLFYPCQASEKCEQPLWIPRYEYSMGLADYLQYNKRWVGLLFNVGIGSCRLPVSWNGPFKAKESGYPLIILSHGLGGFRASYSAFCMELASRGFVVAAVEHRDQSAAATYFCKPTSQESSPAESLEEEWLPFRRIKEGEKEFHVRNPQVHQRVKECVRVLRILQDASAGKTVVNVFPGGLDLMTLKGSIDRNRVAVMGHSFGGATAVLALTQEVQFRCAIALDAWMFPLERDFYPKARGPVFFINVEKFQTVESVNLMKKICAQHEQSRIVTVLGAVHRSQTDFAFVTGNLIAKFFSSNSRGTLDPYESQEVMVRAILAFLQKHLDLKEDYDQWSSFIEGVGPSLIQGAPHYLSSL',\n",
       "   'existence': 'Evidence at protein level',\n",
       "   'reviewed': 'reviewed',\n",
       "   'ec': '2.3.1.149; 3.1.1.47',\n",
       "   'organism': 'Mus musculus (Mouse)',\n",
       "   'name': 'Platelet-activating factor acetylhydrolase 2, cytoplasmic (EC 3.1.1.47) (PAF:lysophospholipid transacetylase) (PAF:sphingosine transacetylase) (Platelet-activating factor acetyltransferase PAFAH2) (EC 2.3.1.149) (Serine-dependent phospholipase A2) (SD-PLA2)'},\n",
       "  {'uniprot_id': 'P79106',\n",
       "   'sequence': 'MGVNQSVSFPPVTGPHLVGCGDVMEGQSLQGSFFRLFYPCQEAEETSEQPLWIPRYEYCAGLAEYLKFNKRWGGLLFNLGVGSCRLPVSWNGPFKTKDSGYPLIIFSHGMGAFRTVYSAFCMELASRGFVVAVPEHRDGSAAATCFCKQTPEENQPDNEALKEEWIPHRQIEEGEKEFYVRNYQVHQRVSECVRVLKILQEVTAGQAVLNILPGGLDLMTLKGGIDVSRVAVMGHSFGGATAILALAKEMQFRCAVALDAWMFPLEHDFYPTARGPIFFINAEKFQTVETVNLMKKICDQHHQSRIITVLGSVHRSLTDFVFVAGNWISKFFSSHTRGSLDPYEGQETVVRAMLAFLQKHLDLKEDYDQWNNFIEGIGPSLTPGAPHHLSSL',\n",
       "   'existence': 'Evidence at protein level',\n",
       "   'reviewed': 'reviewed',\n",
       "   'ec': '2.3.1.149; 3.1.1.47',\n",
       "   'organism': 'Bos taurus (Bovine)',\n",
       "   'name': 'Platelet-activating factor acetylhydrolase 2, cytoplasmic (EC 3.1.1.47) (PAF acetylhydrolase II) (PAF:lysophospholipid transacetylase) (PAF:sphingosine transacetylase) (Platelet-activating factor acetyltransferase PAFAH2) (EC 2.3.1.149) (Serine-dependent phospholipase A2) (SD-PLA2)'},\n",
       "  {'uniprot_id': 'Q99487',\n",
       "   'sequence': 'MGVNQSVGFPPVTGPHLVGCGDVMEGQNLQGSFFRLFYPCQKAEETMEQPLWIPRYEYCTGLAEYLQFNKRCGGLLFNLAVGSCRLPVSWNGPFKTKDSGYPLIIFSHGLGAFRTLYSAFCMELASRGFVVAVPEHRDRSAATTYFCKQAPEENQPTNESLQEEWIPFRRVEEGEKEFHVRNPQVHQRVSECLRVLKILQEVTAGQTVFNILPGGLDLMTLKGNIDMSRVAVMGHSFGGATAILALAKETQFRCAVALDAWMFPLERDFYPKARGPVFFINTEKFQTMESVNLMKKICAQHEQSRIITVLGSVHRSQTDFAFVTGNLIGKFFSTETRGSLDPYEGQEVMVRAMLAFLQKHLDLKEDYNQWNNLIEGIGPSLTPGAPHHLSSL',\n",
       "   'existence': 'Evidence at protein level',\n",
       "   'reviewed': 'reviewed',\n",
       "   'ec': '2.3.1.149; 3.1.1.47',\n",
       "   'organism': 'Homo sapiens (Human)',\n",
       "   'name': 'Platelet-activating factor acetylhydrolase 2, cytoplasmic (EC 3.1.1.47) (PAF:lysophospholipid transacetylase) (PAF:sphingosine transacetylase) (Platelet-activating factor acetyltransferase PAFAH2) (EC 2.3.1.149) (Serine-dependent phospholipase A2) (SD-PLA2) (hSD-PLA2)'},\n",
       "  {'uniprot_id': 'P83006',\n",
       "   'sequence': 'MGAGQSICFPPISGPHHIGCTDVMEGHSLEGSLFRLFYPCEASETCEQPLWIPRYEYCVGLADYLQYNKRWVGLLFNVGIGSCRLPVSWNGPFKTKESGYPLIILSHGLGGFRVSYSAFCMELASRGFVVAAIEHRDQSAAATYFCKQTSQESSPTESLEEEWIPFRRIKEGEKEFHVRNPQVHQRAKECVRVLQILQDASAGKPVINVFPGGLDLMTLKGSIDMSRVAVMGHSFGGATAILALTQEAQFRCAIALDAWMFPLEHDFYPKARGPVFFINVEKFQTVESVNLMKKICAQHEQSRIVTVLGAVHRSQTDFAFVTGNMIGKLFSSGTRGTLDPYEGQEVMVRAMLAFLQKHLDLKEDYDQWNSFIEGIGPSLIQGAPHYLSSL',\n",
       "   'existence': 'Evidence at protein level',\n",
       "   'reviewed': 'reviewed',\n",
       "   'ec': '2.3.1.149; 3.1.1.47',\n",
       "   'organism': 'Rattus norvegicus (Rat)',\n",
       "   'name': 'Platelet-activating factor acetylhydrolase 2, cytoplasmic (EC 3.1.1.47) (PAF:lysophospholipid transacetylase) (PAF:sphingosine transacetylase) (Platelet-activating factor acetyltransferase PAFAH2) (EC 2.3.1.149) (Serine-dependent phospholipase A2) (SD-PLA2)'}],\n",
       " 'rhea_ids': [41693, 41694],\n",
       " 'reverse': 15324,\n",
       " 'am_smarts': '[CH:1]([CH2:3][O:5][CH2:7][CH2:9][CH2:13][CH2:15][CH2:17][CH2:19][CH2:23][CH2:24][CH2:25][CH2:26][CH2:27][CH2:28][CH2:29][CH2:30][CH2:31][CH3:32])([CH2:4][O:6][P:8](=[O:10])([OH:11])[O:12][CH2:14][CH2:16][N+:18]([CH3:20])([CH3:21])[CH3:22])[O:33][C:34](=[O:35])[CH2:36][CH2:37][CH3:38].[OH2:2]>>[CH:1]([OH:2])([CH2:3][O:5][CH2:7][CH2:9][CH2:13][CH2:15][CH2:17][CH2:19][CH2:23][CH2:24][CH2:25][CH2:26][CH2:27][CH2:28][CH2:29][CH2:30][CH2:31][CH3:32])[CH2:4][O:6][P:8](=[O:10])([OH:11])[O:12][CH2:14][CH2:16][N+:18]([CH3:20])([CH3:21])[CH3:22].[OH:33][C:34](=[O:35])[CH2:36][CH2:37][CH3:38]'}"
      ]
     },
     "execution_count": 25,
     "metadata": {},
     "output_type": "execute_result"
    }
   ],
   "source": [
    "entry = sprhea[idx_feature[440]]\n",
    "entry"
   ]
  },
  {
   "cell_type": "code",
   "execution_count": 32,
   "id": "0ca256b1",
   "metadata": {},
   "outputs": [
    {
     "name": "stdout",
     "output_type": "stream",
     "text": [
      "CCCCCCCCCCCCCCCCOCC(COP(=O)(O)OCC[N+](C)(C)C)OC(=O)CCC 37\n",
      "O 1\n",
      "CCCC(=O)O 6\n",
      "CCCCCCCCCCCCCCCCOCC(O)COP(=O)(O)OCC[N+](C)(C)C 32\n",
      "[CH:1]([CH2:3][O:5][CH2:7][CH2:9][CH2:13][CH2:15][CH2:17][CH2:19][CH2:23][CH2:24][CH2:25][CH2:26][CH2:27][CH2:28][CH2:29][CH2:30][CH2:31][CH3:32])([CH2:4][O:6][P:8](=[O:10])([OH:11])[O:12][CH2:14][CH2:16][N+:18]([CH3:20])([CH3:21])[CH3:22])[O:33][C:34](=[O:35])[CH2:36][CH2:37][CH3:38] 37\n",
      "[OH2:2] 1\n",
      "[CH:1]([OH:2])([CH2:3][O:5][CH2:7][CH2:9][CH2:13][CH2:15][CH2:17][CH2:19][CH2:23][CH2:24][CH2:25][CH2:26][CH2:27][CH2:28][CH2:29][CH2:30][CH2:31][CH3:32])[CH2:4][O:6][P:8](=[O:10])([OH:11])[O:12][CH2:14][CH2:16][N+:18]([CH3:20])([CH3:21])[CH3:22] 32\n",
      "[OH:33][C:34](=[O:35])[CH2:36][CH2:37][CH3:38] 6\n"
     ]
    }
   ],
   "source": [
    "for side in entry['smarts'].split('>>'):\n",
    "    for s in side.split('.'):\n",
    "        m = Chem.MolFromSmiles(s)\n",
    "        print(s, m.GetNumAtoms())\n",
    "\n",
    "for side in entry['am_smarts'].split('>>'):\n",
    "    for s in side.split('.'):\n",
    "        m = Chem.MolFromSmiles(s)\n",
    "        print(s, m.GetNumAtoms())"
   ]
  },
  {
   "cell_type": "code",
   "execution_count": 33,
   "id": "3ac70053",
   "metadata": {},
   "outputs": [],
   "source": [
    "for idx in issues:\n",
    "    smarts = sprhea[idx_feature[idx]]['smarts']\n",
    "    lhs, rhs = [side.split('.') for side in smarts.split('>>')]\n",
    "    mols = [Chem.MolFromSmiles(s) for s in lhs + rhs]\n",
    "    for rc_max, mol in zip(issues[idx][1], mols):\n",
    "        if rc_max > mol.GetNumAtoms():\n",
    "            print(f\"idx {idx} with smarts {smarts} has issue: {rc_max} > {mol.GetNumAtoms()} for {Chem.MolToSmiles(mol)}\")"
   ]
  },
  {
   "cell_type": "code",
   "execution_count": 24,
   "id": "723333d3",
   "metadata": {},
   "outputs": [
    {
     "data": {
      "text/html": [
       "<div>\n",
       "<style scoped>\n",
       "    .dataframe tbody tr th:only-of-type {\n",
       "        vertical-align: middle;\n",
       "    }\n",
       "\n",
       "    .dataframe tbody tr th {\n",
       "        vertical-align: top;\n",
       "    }\n",
       "\n",
       "    .dataframe thead th {\n",
       "        text-align: right;\n",
       "    }\n",
       "</style>\n",
       "<table border=\"1\" class=\"dataframe\">\n",
       "  <thead>\n",
       "    <tr style=\"text-align: right;\">\n",
       "      <th></th>\n",
       "      <th>protein_idx</th>\n",
       "      <th>reaction_idx</th>\n",
       "      <th>pid</th>\n",
       "      <th>rid</th>\n",
       "      <th>protein_embedding</th>\n",
       "      <th>smarts</th>\n",
       "      <th>reaction_center</th>\n",
       "      <th>y</th>\n",
       "    </tr>\n",
       "  </thead>\n",
       "  <tbody>\n",
       "    <tr>\n",
       "      <th>948</th>\n",
       "      <td>558</td>\n",
       "      <td>440</td>\n",
       "      <td>Q8VDG7</td>\n",
       "      <td>9888</td>\n",
       "      <td>[0.07856997, 0.24768348, 0.07567654, 0.0232599...</td>\n",
       "      <td>[CH:1]([CH2:3][O:5][CH2:7][CH2:9][CH2:13][CH2:...</td>\n",
       "      <td>[[[18, 31], [0]], [[3, 5], [19]]]</td>\n",
       "      <td>1</td>\n",
       "    </tr>\n",
       "    <tr>\n",
       "      <th>949</th>\n",
       "      <td>559</td>\n",
       "      <td>440</td>\n",
       "      <td>P79106</td>\n",
       "      <td>9888</td>\n",
       "      <td>[0.09574465, 0.23234762, 0.058149666, 0.032877...</td>\n",
       "      <td>[CH:1]([CH2:3][O:5][CH2:7][CH2:9][CH2:13][CH2:...</td>\n",
       "      <td>[[[18, 31], [0]], [[3, 5], [19]]]</td>\n",
       "      <td>1</td>\n",
       "    </tr>\n",
       "    <tr>\n",
       "      <th>950</th>\n",
       "      <td>560</td>\n",
       "      <td>440</td>\n",
       "      <td>Q99487</td>\n",
       "      <td>9888</td>\n",
       "      <td>[0.092274666, 0.23454094, 0.05176036, 0.043576...</td>\n",
       "      <td>[CH:1]([CH2:3][O:5][CH2:7][CH2:9][CH2:13][CH2:...</td>\n",
       "      <td>[[[18, 31], [0]], [[3, 5], [19]]]</td>\n",
       "      <td>1</td>\n",
       "    </tr>\n",
       "    <tr>\n",
       "      <th>951</th>\n",
       "      <td>561</td>\n",
       "      <td>440</td>\n",
       "      <td>P83006</td>\n",
       "      <td>9888</td>\n",
       "      <td>[0.10112702, 0.24632981, 0.06338388, 0.0236249...</td>\n",
       "      <td>[CH:1]([CH2:3][O:5][CH2:7][CH2:9][CH2:13][CH2:...</td>\n",
       "      <td>[[[18, 31], [0]], [[3, 5], [19]]]</td>\n",
       "      <td>1</td>\n",
       "    </tr>\n",
       "    <tr>\n",
       "      <th>10903</th>\n",
       "      <td>9971</td>\n",
       "      <td>440</td>\n",
       "      <td>P0DUN3</td>\n",
       "      <td>9888</td>\n",
       "      <td>[0.16980408, 0.30399475, 0.009269477, -0.06162...</td>\n",
       "      <td>[CH:1]([CH2:3][O:5][CH2:7][CH2:9][CH2:13][CH2:...</td>\n",
       "      <td>[[[18, 31], [0]], [[3, 5], [19]]]</td>\n",
       "      <td>0</td>\n",
       "    </tr>\n",
       "    <tr>\n",
       "      <th>...</th>\n",
       "      <td>...</td>\n",
       "      <td>...</td>\n",
       "      <td>...</td>\n",
       "      <td>...</td>\n",
       "      <td>...</td>\n",
       "      <td>...</td>\n",
       "      <td>...</td>\n",
       "      <td>...</td>\n",
       "    </tr>\n",
       "    <tr>\n",
       "      <th>93470</th>\n",
       "      <td>6924</td>\n",
       "      <td>440</td>\n",
       "      <td>A4TSJ5</td>\n",
       "      <td>9888</td>\n",
       "      <td>[0.010831217, 0.090564646, 0.0048261955, 0.137...</td>\n",
       "      <td>[CH:1]([CH2:3][O:5][CH2:7][CH2:9][CH2:13][CH2:...</td>\n",
       "      <td>[[[18, 31], [0]], [[3, 5], [19]]]</td>\n",
       "      <td>0</td>\n",
       "    </tr>\n",
       "    <tr>\n",
       "      <th>95428</th>\n",
       "      <td>333</td>\n",
       "      <td>440</td>\n",
       "      <td>Q9ERS7</td>\n",
       "      <td>9888</td>\n",
       "      <td>[-0.052899245, 0.29523712, -0.069401555, 0.042...</td>\n",
       "      <td>[CH:1]([CH2:3][O:5][CH2:7][CH2:9][CH2:13][CH2:...</td>\n",
       "      <td>[[[18, 31], [0]], [[3, 5], [19]]]</td>\n",
       "      <td>0</td>\n",
       "    </tr>\n",
       "    <tr>\n",
       "      <th>96850</th>\n",
       "      <td>3589</td>\n",
       "      <td>440</td>\n",
       "      <td>P27038</td>\n",
       "      <td>9888</td>\n",
       "      <td>[0.07959237, 0.18772636, 0.08321738, -0.025589...</td>\n",
       "      <td>[CH:1]([CH2:3][O:5][CH2:7][CH2:9][CH2:13][CH2:...</td>\n",
       "      <td>[[[18, 31], [0]], [[3, 5], [19]]]</td>\n",
       "      <td>0</td>\n",
       "    </tr>\n",
       "    <tr>\n",
       "      <th>97345</th>\n",
       "      <td>18501</td>\n",
       "      <td>440</td>\n",
       "      <td>Q9N0A4</td>\n",
       "      <td>9888</td>\n",
       "      <td>[0.032802057, 0.27320108, 0.026131785, 0.06960...</td>\n",
       "      <td>[CH:1]([CH2:3][O:5][CH2:7][CH2:9][CH2:13][CH2:...</td>\n",
       "      <td>[[[18, 31], [0]], [[3, 5], [19]]]</td>\n",
       "      <td>0</td>\n",
       "    </tr>\n",
       "    <tr>\n",
       "      <th>98241</th>\n",
       "      <td>1770</td>\n",
       "      <td>440</td>\n",
       "      <td>Q8VDF3</td>\n",
       "      <td>9888</td>\n",
       "      <td>[0.016564041, 0.2500506, 0.015312226, 0.056050...</td>\n",
       "      <td>[CH:1]([CH2:3][O:5][CH2:7][CH2:9][CH2:13][CH2:...</td>\n",
       "      <td>[[[18, 31], [0]], [[3, 5], [19]]]</td>\n",
       "      <td>0</td>\n",
       "    </tr>\n",
       "  </tbody>\n",
       "</table>\n",
       "<p>80 rows × 8 columns</p>\n",
       "</div>"
      ],
      "text/plain": [
       "       protein_idx  reaction_idx     pid   rid  \\\n",
       "948            558           440  Q8VDG7  9888   \n",
       "949            559           440  P79106  9888   \n",
       "950            560           440  Q99487  9888   \n",
       "951            561           440  P83006  9888   \n",
       "10903         9971           440  P0DUN3  9888   \n",
       "...            ...           ...     ...   ...   \n",
       "93470         6924           440  A4TSJ5  9888   \n",
       "95428          333           440  Q9ERS7  9888   \n",
       "96850         3589           440  P27038  9888   \n",
       "97345        18501           440  Q9N0A4  9888   \n",
       "98241         1770           440  Q8VDF3  9888   \n",
       "\n",
       "                                       protein_embedding  \\\n",
       "948    [0.07856997, 0.24768348, 0.07567654, 0.0232599...   \n",
       "949    [0.09574465, 0.23234762, 0.058149666, 0.032877...   \n",
       "950    [0.092274666, 0.23454094, 0.05176036, 0.043576...   \n",
       "951    [0.10112702, 0.24632981, 0.06338388, 0.0236249...   \n",
       "10903  [0.16980408, 0.30399475, 0.009269477, -0.06162...   \n",
       "...                                                  ...   \n",
       "93470  [0.010831217, 0.090564646, 0.0048261955, 0.137...   \n",
       "95428  [-0.052899245, 0.29523712, -0.069401555, 0.042...   \n",
       "96850  [0.07959237, 0.18772636, 0.08321738, -0.025589...   \n",
       "97345  [0.032802057, 0.27320108, 0.026131785, 0.06960...   \n",
       "98241  [0.016564041, 0.2500506, 0.015312226, 0.056050...   \n",
       "\n",
       "                                                  smarts  \\\n",
       "948    [CH:1]([CH2:3][O:5][CH2:7][CH2:9][CH2:13][CH2:...   \n",
       "949    [CH:1]([CH2:3][O:5][CH2:7][CH2:9][CH2:13][CH2:...   \n",
       "950    [CH:1]([CH2:3][O:5][CH2:7][CH2:9][CH2:13][CH2:...   \n",
       "951    [CH:1]([CH2:3][O:5][CH2:7][CH2:9][CH2:13][CH2:...   \n",
       "10903  [CH:1]([CH2:3][O:5][CH2:7][CH2:9][CH2:13][CH2:...   \n",
       "...                                                  ...   \n",
       "93470  [CH:1]([CH2:3][O:5][CH2:7][CH2:9][CH2:13][CH2:...   \n",
       "95428  [CH:1]([CH2:3][O:5][CH2:7][CH2:9][CH2:13][CH2:...   \n",
       "96850  [CH:1]([CH2:3][O:5][CH2:7][CH2:9][CH2:13][CH2:...   \n",
       "97345  [CH:1]([CH2:3][O:5][CH2:7][CH2:9][CH2:13][CH2:...   \n",
       "98241  [CH:1]([CH2:3][O:5][CH2:7][CH2:9][CH2:13][CH2:...   \n",
       "\n",
       "                         reaction_center  y  \n",
       "948    [[[18, 31], [0]], [[3, 5], [19]]]  1  \n",
       "949    [[[18, 31], [0]], [[3, 5], [19]]]  1  \n",
       "950    [[[18, 31], [0]], [[3, 5], [19]]]  1  \n",
       "951    [[[18, 31], [0]], [[3, 5], [19]]]  1  \n",
       "10903  [[[18, 31], [0]], [[3, 5], [19]]]  0  \n",
       "...                                  ... ..  \n",
       "93470  [[[18, 31], [0]], [[3, 5], [19]]]  0  \n",
       "95428  [[[18, 31], [0]], [[3, 5], [19]]]  0  \n",
       "96850  [[[18, 31], [0]], [[3, 5], [19]]]  0  \n",
       "97345  [[[18, 31], [0]], [[3, 5], [19]]]  0  \n",
       "98241  [[[18, 31], [0]], [[3, 5], [19]]]  0  \n",
       "\n",
       "[80 rows x 8 columns]"
      ]
     },
     "execution_count": 24,
     "metadata": {},
     "output_type": "execute_result"
    }
   ],
   "source": [
    "staged_on_quest.loc[staged_on_quest.reaction_idx == 440]"
   ]
  },
  {
   "cell_type": "code",
   "execution_count": 1,
   "id": "cf80bbf1",
   "metadata": {},
   "outputs": [],
   "source": [
    "from drfp import DrfpEncoder\n",
    "\n",
    "rxn_smiles = [\n",
    "    \"CO.O[C@@H]1CCNC1.[C-]#[N+]CC(=O)OC>>[C-]#[N+]CC(=O)N1CC[C@@H](O)C1\",\n",
    "    \"CCOC(=O)C(CC)c1cccnc1.Cl.O>>CCC(C(=O)O)c1cccnc1\",\n",
    "]\n",
    "\n",
    "fps = DrfpEncoder.encode(rxn_smiles)"
   ]
  },
  {
   "cell_type": "code",
   "execution_count": 2,
   "id": "e6857a56",
   "metadata": {},
   "outputs": [
    {
     "data": {
      "text/plain": [
       "[array([0, 0, 0, ..., 0, 0, 0], shape=(2048,), dtype=uint8),\n",
       " array([0, 0, 0, ..., 0, 0, 0], shape=(2048,), dtype=uint8)]"
      ]
     },
     "execution_count": 2,
     "metadata": {},
     "output_type": "execute_result"
    }
   ],
   "source": [
    "fps"
   ]
  },
  {
   "cell_type": "code",
   "execution_count": 11,
   "id": "2523dfb8",
   "metadata": {},
   "outputs": [
    {
     "data": {
      "text/plain": [
       "np.False_"
      ]
     },
     "execution_count": 11,
     "metadata": {},
     "output_type": "execute_result"
    }
   ],
   "source": [
    "am_rxn = \"[C:1][C:2]>>[C:1]=[C:2]\"\n",
    "rxn = \"CC>>C=C\"\n",
    "\n",
    "am_fp = DrfpEncoder.encode(am_rxn)\n",
    "fp = DrfpEncoder.encode(rxn)\n",
    "(am_fp[0] == fp[0]).all()"
   ]
  },
  {
   "cell_type": "code",
   "execution_count": 1,
   "id": "5be6720b",
   "metadata": {},
   "outputs": [
    {
     "data": {
      "text/plain": [
       "3"
      ]
     },
     "execution_count": 1,
     "metadata": {},
     "output_type": "execute_result"
    }
   ],
   "source": [
    "foo = [1,2,3]\n",
    "max(foo)"
   ]
  }
 ],
 "metadata": {
  "kernelspec": {
   "display_name": "hiec2",
   "language": "python",
   "name": "python3"
  },
  "language_info": {
   "codemirror_mode": {
    "name": "ipython",
    "version": 3
   },
   "file_extension": ".py",
   "mimetype": "text/x-python",
   "name": "python",
   "nbconvert_exporter": "python",
   "pygments_lexer": "ipython3",
   "version": "3.11.5"
  }
 },
 "nbformat": 4,
 "nbformat_minor": 5
}
